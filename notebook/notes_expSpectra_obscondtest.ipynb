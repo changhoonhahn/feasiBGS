{
 "cells": [
  {
   "cell_type": "markdown",
   "metadata": {},
   "source": [
    "Test that the observational condition keywords besides exposure time does not impact the forwardmodel"
   ]
  },
  {
   "cell_type": "code",
   "execution_count": 1,
   "metadata": {},
   "outputs": [],
   "source": [
    "import os\n",
    "import numpy as np \n",
    "# -- feasibgs -- \n",
    "from feasibgs import util as UT\n",
    "from feasibgs import catalogs as Cat\n",
    "from feasibgs import forwardmodel as FM"
   ]
  },
  {
   "cell_type": "code",
   "execution_count": 2,
   "metadata": {},
   "outputs": [],
   "source": [
    "import matplotlib as mpl \n",
    "import matplotlib.pyplot as pl \n",
    "mpl.rcParams['text.usetex'] = True\n",
    "mpl.rcParams['font.family'] = 'serif'\n",
    "mpl.rcParams['axes.linewidth'] = 1.5\n",
    "mpl.rcParams['axes.xmargin'] = 1\n",
    "mpl.rcParams['xtick.labelsize'] = 'x-large'\n",
    "mpl.rcParams['xtick.major.size'] = 5\n",
    "mpl.rcParams['xtick.major.width'] = 1.5\n",
    "mpl.rcParams['ytick.labelsize'] = 'x-large'\n",
    "mpl.rcParams['ytick.major.size'] = 5\n",
    "mpl.rcParams['ytick.major.width'] = 1.5\n",
    "mpl.rcParams['legend.frameon'] = False\n",
    "%matplotlib inline"
   ]
  },
  {
   "cell_type": "code",
   "execution_count": 6,
   "metadata": {},
   "outputs": [],
   "source": [
    "cata = Cat.GamaLegacy()\n",
    "gleg = cata.Read()"
   ]
  },
  {
   "cell_type": "code",
   "execution_count": 7,
   "metadata": {},
   "outputs": [
    {
     "name": "stdout",
     "output_type": "stream",
     "text": [
      "39832 galaxies from GAMA-Legacy catalog\n"
     ]
    },
    {
     "name": "stderr",
     "output_type": "stream",
     "text": [
      "/Users/chang/anaconda2/lib/python2.7/site-packages/feasibgs-0.0.0-py2.7.egg/feasibgs/catalogs.py:199: RuntimeWarning: divide by zero encountered in log10\n",
      "/Users/chang/anaconda2/lib/python2.7/site-packages/feasibgs-0.0.0-py2.7.egg/feasibgs/catalogs.py:199: RuntimeWarning: invalid value encountered in log10\n"
     ]
    }
   ],
   "source": [
    "redshift = gleg['gama-spec']['z_helio'] # redshift\n",
    "absmag_ugriz = cata.AbsMag(gleg, kcorr=0.1, Om0=0.3, galext=False) # Absmag k-correct to z = 0.1\n",
    "ngal = len(redshift)\n",
    "print('%i galaxies from GAMA-Legacy catalog' % ngal)"
   ]
  },
  {
   "cell_type": "code",
   "execution_count": 9,
   "metadata": {},
   "outputs": [],
   "source": [
    "r_mag = UT.flux2mag(gleg['legacy-photo']['apflux_r'][:,1])\n",
    "vdisp = np.repeat(100., ngal) "
   ]
  },
  {
   "cell_type": "code",
   "execution_count": 8,
   "metadata": {},
   "outputs": [
    {
     "name": "stdout",
     "output_type": "stream",
     "text": [
      "INFO:io.py:1015:read_basis_templates: Reading /Volumes/chang_eHDD/projects/desi/spectro/templates/basis_templates/v2.3/bgs_templates_v2.1.fits metadata.\n",
      "39702 of the galaxies have matches\n"
     ]
    },
    {
     "name": "stderr",
     "output_type": "stream",
     "text": [
      "/Users/chang/anaconda2/lib/python2.7/site-packages/feasibgs-0.0.0-py2.7.egg/feasibgs/forwardmodel.py:105: RuntimeWarning: invalid value encountered in subtract\n"
     ]
    }
   ],
   "source": [
    "bgs3 = FM.BGStree()\n",
    "match = bgs3._GamaLegacy(gleg)\n",
    "hasmatch = (match != -999)\n",
    "print('%i of the galaxies have matches' % np.sum(hasmatch))"
   ]
  },
  {
   "cell_type": "code",
   "execution_count": 11,
   "metadata": {},
   "outputs": [
    {
     "name": "stdout",
     "output_type": "stream",
     "text": [
      "INFO:io.py:1027:read_basis_templates: Reading /Volumes/chang_eHDD/projects/desi/spectro/templates/basis_templates/v2.3/bgs_templates_v2.1.fits\n",
      "DEBUG:templates.py:359:_blurmatrix: Populating blur matrix with 1 unique velocity dispersion values.\n"
     ]
    }
   ],
   "source": [
    "n_sub = 100 \n",
    "in_sub = (hasmatch & (np.arange(ngal) < n_sub))\n",
    "bgstemp = FM.BGStemplates(wavemin=1500.0, wavemax=2e4)\n",
    "flux, wave, meta = bgstemp.Spectra(r_mag[in_sub], redshift[in_sub], vdisp[in_sub], seed=1, \n",
    "                                   templateid=match[in_sub], silent=False)\n",
    "wave, flux_eml = bgstemp.addEmissionLines(wave, flux, gleg, np.arange(ngal)[in_sub], silent=False)"
   ]
  },
  {
   "cell_type": "code",
   "execution_count": 12,
   "metadata": {},
   "outputs": [],
   "source": [
    "fdesi = FM.fakeDESIspec()"
   ]
  },
  {
   "cell_type": "markdown",
   "metadata": {},
   "source": [
    "Default atmosphere settings: \n",
    "- moonalt = -60\n",
    "- moonsep = 180\n",
    "- moonfrac = 0.0\n",
    "- seeing = 1.1"
   ]
  },
  {
   "cell_type": "code",
   "execution_count": 26,
   "metadata": {},
   "outputs": [
    {
     "name": "stdout",
     "output_type": "stream",
     "text": [
      "[0.01659787 0.01656275 0.01652593 ... 0.24699657 0.24701468 0.24703279]\n"
     ]
    }
   ],
   "source": [
    "print(flux_eml[0])"
   ]
  },
  {
   "cell_type": "code",
   "execution_count": 23,
   "metadata": {},
   "outputs": [
    {
     "name": "stdout",
     "output_type": "stream",
     "text": [
      "DEBUG:simexp.py:659:get_source_types: bgs 100 targets\n"
     ]
    }
   ],
   "source": [
    "bgs_spec0 = fdesi.simExposure(wave, flux_eml, skycondition='dark', seed=1, exptime=480)"
   ]
  },
  {
   "cell_type": "markdown",
   "metadata": {},
   "source": [
    "atmosphere setting 1:\n",
    "- moonalt = 30\n",
    "- moonsep = 120\n",
    "- moonfrac = 0.8\n",
    "- seeing = 1.1"
   ]
  },
  {
   "cell_type": "code",
   "execution_count": 22,
   "metadata": {},
   "outputs": [
    {
     "name": "stdout",
     "output_type": "stream",
     "text": [
      "DEBUG:simexp.py:659:get_source_types: bgs 100 targets\n"
     ]
    }
   ],
   "source": [
    "bgs_spec1 = fdesi.simExposure(wave, flux_eml, skycondition='dark', seed=1, exptime=480, \n",
    "                              moonalt=30, moonsep=120, moonfrac=0.8, seeing=1.1)"
   ]
  },
  {
   "cell_type": "code",
   "execution_count": 27,
   "metadata": {},
   "outputs": [
    {
     "name": "stdout",
     "output_type": "stream",
     "text": [
      "[0.01659787 0.01656275 0.01652593 ... 0.24699657 0.24701468 0.24703279]\n"
     ]
    }
   ],
   "source": [
    "print(flux_eml[0])"
   ]
  },
  {
   "cell_type": "code",
   "execution_count": 31,
   "metadata": {},
   "outputs": [
    {
     "name": "stdout",
     "output_type": "stream",
     "text": [
      "('r', array([ 2.1103902 ,  2.0180259 , -0.59206986, ..., -0.13992798,\n",
      "       -1.5267322 , -0.97413677], dtype=float32))\n",
      "('b', array([ 0.4883322 , -1.1703421 , -2.1506474 , ..., -2.1239378 ,\n",
      "       -0.4601779 , -0.45549732], dtype=float32))\n",
      "('z', array([ 3.8521242 , -0.16634664,  4.951483  , ...,  0.5417628 ,\n",
      "        0.34501553,  0.464745  ], dtype=float32))\n"
     ]
    }
   ],
   "source": [
    "for k in bgs_spec0.flux.keys(): \n",
    "    print(k, bgs_spec0.flux[k][0]) "
   ]
  },
  {
   "cell_type": "code",
   "execution_count": 32,
   "metadata": {},
   "outputs": [
    {
     "name": "stdout",
     "output_type": "stream",
     "text": [
      "('r', array([ 2.1103902 ,  2.0180259 , -0.59206986, ..., -0.13992798,\n",
      "       -1.5267322 , -0.97413677], dtype=float32))\n",
      "('b', array([ 0.4883322 , -1.1703421 , -2.1506474 , ..., -2.1239378 ,\n",
      "       -0.4601779 , -0.45549732], dtype=float32))\n",
      "('z', array([ 3.8521242 , -0.16634664,  4.951483  , ...,  0.5417628 ,\n",
      "        0.34501553,  0.464745  ], dtype=float32))\n"
     ]
    }
   ],
   "source": [
    "for k in bgs_spec0.flux.keys(): \n",
    "    print(k, bgs_spec1.flux[k][0]) "
   ]
  },
  {
   "cell_type": "markdown",
   "metadata": {},
   "source": [
    "atmosphere setting 2: \n",
    "- moonalt = 90\n",
    "- moonsep = 20 \n",
    "- moonfrac = 0.99\n",
    "- seeing = 1.1"
   ]
  },
  {
   "cell_type": "code",
   "execution_count": 29,
   "metadata": {},
   "outputs": [
    {
     "name": "stdout",
     "output_type": "stream",
     "text": [
      "DEBUG:simexp.py:659:get_source_types: bgs 100 targets\n"
     ]
    }
   ],
   "source": [
    "bgs_spec2 = fdesi.simExposure(wave, flux_eml, skycondition='dark', seed=1, exptime=480, \n",
    "                              moonalt=90, moonsep=20, moonfrac=0.99, seeing=1.1)"
   ]
  },
  {
   "cell_type": "code",
   "execution_count": 33,
   "metadata": {},
   "outputs": [
    {
     "name": "stdout",
     "output_type": "stream",
     "text": [
      "('r', array([ 2.1103902 ,  2.0180259 , -0.59206986, ..., -0.13992798,\n",
      "       -1.5267322 , -0.97413677], dtype=float32))\n",
      "('b', array([ 0.4883322 , -1.1703421 , -2.1506474 , ..., -2.1239378 ,\n",
      "       -0.4601779 , -0.45549732], dtype=float32))\n",
      "('z', array([ 3.8521242 , -0.16634664,  4.951483  , ...,  0.5417628 ,\n",
      "        0.34501553,  0.464745  ], dtype=float32))\n"
     ]
    }
   ],
   "source": [
    "for k in bgs_spec0.flux.keys(): \n",
    "    print(k, bgs_spec2.flux[k][0]) "
   ]
  },
  {
   "cell_type": "code",
   "execution_count": 34,
   "metadata": {},
   "outputs": [
    {
     "name": "stdout",
     "output_type": "stream",
     "text": [
      "DEBUG:simexp.py:659:get_source_types: bgs 100 targets\n"
     ]
    }
   ],
   "source": [
    "bgs_spec3 = fdesi.simExposure(wave, flux_eml, skycondition='dark', seed=1, exptime=480, \n",
    "                              moonalt=90, moonsep=20, moonfrac=0.99, seeing=1.1, airmass=2.)"
   ]
  },
  {
   "cell_type": "code",
   "execution_count": 36,
   "metadata": {},
   "outputs": [
    {
     "name": "stdout",
     "output_type": "stream",
     "text": [
      "('r', array([ 0.41477865,  2.064616  , -1.968128  , ...,  1.4005642 ,\n",
      "       -0.9474089 ,  2.3228374 ], dtype=float32))\n",
      "('b', array([ 1.0759289 , -3.886627  ,  6.2750473 , ..., -2.5768106 ,\n",
      "       -0.31843132,  7.458333  ], dtype=float32))\n",
      "('z', array([2.7914329 , 2.5405836 , 6.089881  , ..., 0.624763  , 0.6636175 ,\n",
      "       0.08208259], dtype=float32))\n"
     ]
    }
   ],
   "source": [
    "for k in bgs_spec0.flux.keys(): \n",
    "    print(k, bgs_spec3.flux[k][0]) "
   ]
  },
  {
   "cell_type": "markdown",
   "metadata": {},
   "source": [
    "This confirms that the atmosphere keywords (except airmass) do not impact the simulated spectra"
   ]
  }
 ],
 "metadata": {
  "kernelspec": {
   "display_name": "Python 2",
   "language": "python",
   "name": "python2"
  },
  "language_info": {
   "codemirror_mode": {
    "name": "ipython",
    "version": 2
   },
   "file_extension": ".py",
   "mimetype": "text/x-python",
   "name": "python",
   "nbconvert_exporter": "python",
   "pygments_lexer": "ipython2",
   "version": "2.7.14"
  }
 },
 "nbformat": 4,
 "nbformat_minor": 2
}
