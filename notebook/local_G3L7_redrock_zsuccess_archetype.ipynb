{
 "cells": [
  {
   "cell_type": "markdown",
   "metadata": {},
   "source": [
    "I compare redshift success rates for $\\sim 5000$ DESI-like GAMA-Legacy synthetic spectra using `redrock` with different settings. We run `redrock` with three different settings: \n",
    "\n",
    "1. `redrock` no flags\n",
    "2. `redrock` with archetype flag\n",
    "3. `redrock` with archetype flag where the archetypes were constructed with strong H$\\alpha$ spectra added to the training set. "
   ]
  },
  {
   "cell_type": "code",
   "execution_count": 1,
   "metadata": {},
   "outputs": [],
   "source": [
    "import h5py \n",
    "import numpy as np \n",
    "from astropy.io import fits\n",
    "# -- feasibgs -- \n",
    "from feasibgs import util as UT\n",
    "from feasibgs import catalogs as Cat\n",
    "from feasibgs import forwardmodel as FM"
   ]
  },
  {
   "cell_type": "code",
   "execution_count": 2,
   "metadata": {},
   "outputs": [],
   "source": [
    "import matplotlib as mpl \n",
    "import matplotlib.pyplot as pl \n",
    "mpl.rcParams['text.usetex'] = True\n",
    "mpl.rcParams['font.family'] = 'serif'\n",
    "mpl.rcParams['axes.linewidth'] = 1.5\n",
    "mpl.rcParams['axes.xmargin'] = 1\n",
    "mpl.rcParams['xtick.labelsize'] = 'x-large'\n",
    "mpl.rcParams['xtick.major.size'] = 5\n",
    "mpl.rcParams['xtick.major.width'] = 1.5\n",
    "mpl.rcParams['ytick.labelsize'] = 'x-large'\n",
    "mpl.rcParams['ytick.major.size'] = 5\n",
    "mpl.rcParams['ytick.major.width'] = 1.5\n",
    "mpl.rcParams['legend.frameon'] = False\n",
    "%matplotlib inline"
   ]
  },
  {
   "cell_type": "code",
   "execution_count": 3,
   "metadata": {},
   "outputs": [
    {
     "name": "stdout",
     "output_type": "stream",
     "text": [
      "63495 galaxies total\n"
     ]
    }
   ],
   "source": [
    "# read in GAMA-Legacy catalog\n",
    "cata = Cat.GamaLegacy()\n",
    "gleg = cata.Read('g15')\n",
    "\n",
    "# select properties from the GAMA-Legacy catalog\n",
    "redshift = gleg['gama-spec']['z']\n",
    "# apparent magnitudes from Legacy photometry\n",
    "g_mag_legacy = UT.flux2mag(gleg['legacy-photo']['flux_g'])#, method='log')\n",
    "r_mag_legacy = UT.flux2mag(gleg['legacy-photo']['flux_r'])#, method='log')\n",
    "# H-alpha line flux from GAMA spectroscopy\n",
    "gama_ha = gleg['gama-spec']['ha_flux']\n",
    "\n",
    "# absolute magnitude calculated using GAMA photometry\n",
    "absmag_ugriz = cata.AbsMag(gleg, kcorr=0.1, H0=70, Om0=0.3)\n",
    "g_absmag_gama = absmag_ugriz[1,:]\n",
    "r_absmag_gama = absmag_ugriz[2,:]\n",
    "ngal = len(redshift)\n",
    "print('%i galaxies total' % ngal)"
   ]
  },
  {
   "cell_type": "code",
   "execution_count": 5,
   "metadata": {},
   "outputs": [],
   "source": [
    "dir_spec = UT.dat_dir()+'spectra/gamadr3_legacydr7/'\n",
    "# read in gleg data\n",
    "fblock = h5py.File(dir_spec+'gleg.g15.darksky.seed1.exptime300.1of13blocks.hdf5', 'r')\n",
    "block = {}\n",
    "for g in fblock.keys():\n",
    "    block[g] = {} \n",
    "    for k in fblock[g].keys(): \n",
    "        block[g][k] = fblock[g][k].value\n",
    "        \n",
    "magnorm_flag = block['forwardmodel']['magnorm_flag']\n",
    "\n",
    "# read in redrock output (w/ no archetype)\n",
    "zblock0 = fits.open(dir_spec+'g15.synSpectra.darksky.seed1.exptime300.1of13blocks.redrock.fits')[1].data\n",
    "# read in redrock output (w/ archetype)\n",
    "zblock_arch = fits.open(dir_spec+'g15.synSpectra.darksky.seed1.exptime300.1of13blocks.redrock.archetype.fits')[1].data\n",
    "# read in redrock output (w/ updated archetype constructed using GLeg synthetic spectra)\n",
    "zblock_uparch = fits.open(dir_spec+'g15.synSpectra.darksky.seed1.exptime300.1of13blocks.redrock.uparchetype.fits')[1].data"
   ]
  },
  {
   "cell_type": "code",
   "execution_count": 6,
   "metadata": {},
   "outputs": [],
   "source": [
    "z_true = block['gama-spec']['z']\n",
    "\n",
    "# redrock w/ no archetype \n",
    "z_rr0 = zblock0['Z']\n",
    "dz_1pz0 = np.abs(z_true - z_rr0)/(1.+z_true)\n",
    "zwarn0 = zblock0['ZWARN']\n",
    "success0 = (dz_1pz0 < 0.003) & (zwarn0 == 0)\n",
    "\n",
    "# redrock w/ archetype \n",
    "z_rr_arch = zblock_arch['Z']\n",
    "dz_1pz_arch = np.abs(z_true - z_rr_arch)/(1.+z_true)\n",
    "zwarn_arch = zblock_arch['ZWARN']\n",
    "success_arch = (dz_1pz_arch < 0.003) & (zwarn_arch == 0) \n",
    "\n",
    "# redrock w/ updated archetype \n",
    "z_rr_uparch = zblock_uparch['Z']\n",
    "dz_1pz_uparch = np.abs(z_true - z_rr_uparch)/(1.+z_true)\n",
    "zwarn_uparch = zblock_uparch['ZWARN']\n",
    "success_uparch = (dz_1pz_uparch < 0.003) & (zwarn_uparch == 0) & magnorm_flag"
   ]
  },
  {
   "cell_type": "code",
   "execution_count": 7,
   "metadata": {},
   "outputs": [],
   "source": [
    "def zsuccess_rate_magnorm(prop, zsuccess_cond, magnorm_flag, range=None, nbins=20, bin_min=2):\n",
    "    \"\"\" \n",
    "    \"\"\"\n",
    "    h0, bins = np.histogram(prop[magnorm_flag], bins=nbins, range=range)\n",
    "    hv, _ = np.histogram(prop[magnorm_flag], bins=bins, weights=prop[magnorm_flag])\n",
    "    h1, _ = np.histogram(prop[zsuccess_cond & magnorm_flag], bins=bins)\n",
    "    \n",
    "    good = h0 > bin_min\n",
    "    hv = hv[good]\n",
    "    h0 = h0[good]\n",
    "    h1 = h1[good]\n",
    "\n",
    "    vv = hv / h0 # weighted mean of var\n",
    "    \n",
    "    def _eff(k, n):\n",
    "        eff = k.astype(\"float\") / (n.astype('float') + (n==0))\n",
    "        efferr = np.sqrt(eff * (1 - eff)) / np.sqrt(n.astype('float') + (n == 0))\n",
    "        return eff, efferr\n",
    "    \n",
    "    e1, ee1 = _eff(h1, h0)\n",
    "    return vv, e1, ee1"
   ]
  },
  {
   "cell_type": "code",
   "execution_count": 20,
   "metadata": {},
   "outputs": [
    {
     "data": {
      "text/plain": [
       "<matplotlib.legend.Legend at 0x181ea299d0>"
      ]
     },
     "execution_count": 20,
     "metadata": {},
     "output_type": "execute_result"
    },
    {
     "data": {
      "image/png": "[encoded data removed]",
      "text/plain": [
       "<Figure size 432x288 with 1 Axes>"
      ]
     },
     "metadata": {
      "needs_background": "light"
     },
     "output_type": "display_data"
    }
   ],
   "source": [
    "block_ha = block['gama-spec']['ha_flux']\n",
    "hasha = (block_ha > 0.)\n",
    "block_ha_lowlim = block_ha.copy()\n",
    "block_ha_lowlim[~hasha] = 10**-2.8\n",
    "\n",
    "fig = plt.figure()\n",
    "sub = fig.add_subplot(111)\n",
    "sub.plot([-3., 5.], [1., 1.], c='k', ls='--', lw=2)\n",
    "\n",
    "mm, e1, ee1 = zsuccess_rate_magnorm(np.log10(block_ha_lowlim), success0, magnorm_flag, range=[-3., 5.])\n",
    "sub.errorbar(mm, e1, ee1, c='C0', fmt='o', label='redrock')\n",
    "\n",
    "mm, e1, ee1 = zsuccess_rate_magnorm(np.log10(block_ha_lowlim), success_arch, magnorm_flag, range=[-3., 5.])\n",
    "sub.errorbar(mm+0.02, e1, ee1, c='C1', fmt='o', label='+ archetype')\n",
    "\n",
    "mm, e1, ee1 = zsuccess_rate_magnorm(np.log10(block_ha_lowlim), success_uparch, magnorm_flag, range=[-3., 5.])\n",
    "sub.errorbar(mm-0.02, e1, ee1, c='C2', fmt='o', label='+ updated archetype')\n",
    "\n",
    "sub.set_xlabel(r'$H_\\alpha$ line flux GAMA $[10^{-17}erg/s/cm^2]$', fontsize=20)\n",
    "sub.set_xlim([-3., 5.])\n",
    "sub.set_ylabel(r'redrock redshift success', fontsize=20)\n",
    "sub.set_ylim([0., 1.2])\n",
    "sub.legend(loc='lower right', handletextpad=0., prop={'size': 20})"
   ]
  },
  {
   "cell_type": "code",
   "execution_count": null,
   "metadata": {},
   "outputs": [],
   "source": [
    "\n"
   ]
  }
 ],
 "metadata": {
  "kernelspec": {
   "display_name": "Python 2",
   "language": "python",
   "name": "python2"
  },
  "language_info": {
   "codemirror_mode": {
    "name": "ipython",
    "version": 2
   },
   "file_extension": ".py",
   "mimetype": "text/x-python",
   "name": "python",
   "nbconvert_exporter": "python",
   "pygments_lexer": "ipython2",
   "version": "2.7.14"
  }
 },
 "nbformat": 4,
 "nbformat_minor": 2
}
