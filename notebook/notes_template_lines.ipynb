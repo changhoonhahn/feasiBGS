{
 "cells": [
  {
   "cell_type": "markdown",
   "metadata": {},
   "source": [
    "Add GAMA emission lines to template spectra"
   ]
  },
  {
   "cell_type": "code",
   "execution_count": 2,
   "metadata": {},
   "outputs": [],
   "source": [
    "import numpy as np \n",
    "# -- local -- \n",
    "import env\n",
    "from feasibgs import util as UT\n",
    "from feasibgs import catalogs as Cat\n",
    "from feasibgs import forwardmodel as FM"
   ]
  },
  {
   "cell_type": "code",
   "execution_count": 3,
   "metadata": {},
   "outputs": [],
   "source": [
    "import matplotlib as mpl \n",
    "import matplotlib.pyplot as pl \n",
    "mpl.rcParams['text.usetex'] = True\n",
    "mpl.rcParams['font.family'] = 'serif'\n",
    "mpl.rcParams['axes.linewidth'] = 1.5\n",
    "mpl.rcParams['axes.xmargin'] = 1\n",
    "mpl.rcParams['xtick.labelsize'] = 'x-large'\n",
    "mpl.rcParams['xtick.major.size'] = 5\n",
    "mpl.rcParams['xtick.major.width'] = 1.5\n",
    "mpl.rcParams['ytick.labelsize'] = 'x-large'\n",
    "mpl.rcParams['ytick.major.size'] = 5\n",
    "mpl.rcParams['ytick.major.width'] = 1.5\n",
    "mpl.rcParams['legend.frameon'] = False\n",
    "%matplotlib inline"
   ]
  },
  {
   "cell_type": "markdown",
   "metadata": {},
   "source": [
    "read in GAMA-legacy catalog"
   ]
  },
  {
   "cell_type": "code",
   "execution_count": 4,
   "metadata": {},
   "outputs": [],
   "source": [
    "cata = Cat.GamaLegacy()\n",
    "gleg = cata.Read()"
   ]
  },
  {
   "cell_type": "markdown",
   "metadata": {},
   "source": [
    "calculate absolute magnitude with `k-correct` to $z = 0.1$"
   ]
  },
  {
   "cell_type": "code",
   "execution_count": 8,
   "metadata": {},
   "outputs": [],
   "source": [
    "redshift = gleg['gama-spec']['z_helio']"
   ]
  },
  {
   "cell_type": "code",
   "execution_count": 6,
   "metadata": {},
   "outputs": [
    {
     "name": "stderr",
     "output_type": "stream",
     "text": [
      "/Users/chang/projects/feasiBGS/feasibgs/catalogs.py:197: RuntimeWarning: divide by zero encountered in log10\n",
      "  DM = 5. * np.log10(1e5*D_L)\n",
      "/Users/chang/projects/feasiBGS/feasibgs/catalogs.py:197: RuntimeWarning: invalid value encountered in log10\n",
      "  DM = 5. * np.log10(1e5*D_L)\n"
     ]
    }
   ],
   "source": [
    "absmag_ugriz = cata.AbsMag(gleg, kcorr=0.1, H0=70, Om0=0.3)"
   ]
  },
  {
   "cell_type": "code",
   "execution_count": 7,
   "metadata": {},
   "outputs": [],
   "source": [
    "i_rand = np.random.choice(range(absmag_ugriz.shape[1]), size=10)"
   ]
  },
  {
   "cell_type": "code",
   "execution_count": 9,
   "metadata": {},
   "outputs": [],
   "source": [
    "# compile z, M_r0.1, 0.1(g-r)\n",
    "gleg_meta = np.vstack([\n",
    "    redshift[i_rand], \n",
    "    absmag_ugriz[2,i_rand], \n",
    "    absmag_ugriz[1,i_rand] - absmag_ugriz[2,i_rand]]).T"
   ]
  },
  {
   "cell_type": "code",
   "execution_count": 10,
   "metadata": {},
   "outputs": [
    {
     "name": "stdout",
     "output_type": "stream",
     "text": [
      "INFO:io.py:1015:read_basis_templates: Reading /Volumes/chang_eHDD/projects/desi/spectro/templates/basis_templates/v2.3/bgs_templates_v2.1.fits metadata.\n"
     ]
    }
   ],
   "source": [
    "bgs3 = FM.BGStree()\n",
    "match, _ = bgs3.Query(gleg_meta)"
   ]
  },
  {
   "cell_type": "code",
   "execution_count": 11,
   "metadata": {},
   "outputs": [
    {
     "name": "stdout",
     "output_type": "stream",
     "text": [
      "INFO:io.py:1027:read_basis_templates: Reading /Volumes/chang_eHDD/projects/desi/spectro/templates/basis_templates/v2.3/bgs_templates_v2.1.fits\n"
     ]
    }
   ],
   "source": [
    "bgstemp = FM.BGStemplates(wavemin=1500., wavemax=2e4)"
   ]
  },
  {
   "cell_type": "code",
   "execution_count": 12,
   "metadata": {},
   "outputs": [],
   "source": [
    "vdisp = np.repeat(100.0, len(i_rand))"
   ]
  },
  {
   "cell_type": "code",
   "execution_count": 13,
   "metadata": {},
   "outputs": [],
   "source": [
    "flux_temp, wave_temp, meta_temp = bgstemp.Spectra(\n",
    "    gleg['gama-photo']['modelmag_r'][i_rand], redshift[i_rand], vdisp, seed=1, templateid=match)"
   ]
  },
  {
   "cell_type": "code",
   "execution_count": 18,
   "metadata": {},
   "outputs": [
    {
     "data": {
      "text/plain": [
       "Text(0,0.5,'$f(\\\\lambda) \\\\,\\\\,[10^{-17} erg/s/cm^2/A]$')"
      ]
     },
     "execution_count": 18,
     "metadata": {},
     "output_type": "execute_result"
    },
    {
     "data": {
      "image/png": "[encoded data removed]",
      "text/plain": [
       "<Figure size 432x288 with 1 Axes>"
      ]
     },
     "metadata": {},
     "output_type": "display_data"
    }
   ],
   "source": [
    "fig = plt.figure()\n",
    "sub = fig.add_subplot(111)\n",
    "sub.plot(wave_temp, flux_temp[0].T)\n",
    "sub.set_xlabel('Wavelength (A)', fontsize=20)\n",
    "sub.set_xlim([1500., 2e4])\n",
    "sub.set_ylabel(r'$f(\\lambda) \\,\\,[10^{-17} erg/s/cm^2/A]$', fontsize=20)"
   ]
  },
  {
   "cell_type": "code",
   "execution_count": 30,
   "metadata": {},
   "outputs": [
    {
     "name": "stdout",
     "output_type": "stream",
     "text": [
      "[3.97730e+02 3.20764e+01 1.00244e+00 1.91069e+03 8.41146e+00]\n",
      "[1.58095e+02 4.87707e+00 7.04552e-02 4.46260e+01 9.58124e-01]\n"
     ]
    }
   ],
   "source": [
    "print gleg['gama-spec']['ha'][:5]\n",
    "print gleg['gama-spec']['haew'][:5]"
   ]
  },
  {
   "cell_type": "code",
   "execution_count": 31,
   "metadata": {},
   "outputs": [
    {
     "name": "stdout",
     "output_type": "stream",
     "text": [
      "[ 2.515766  6.576982 14.228048 42.815624  8.779094]\n"
     ]
    }
   ],
   "source": [
    "print gleg['gama-spec']['ha'][:5]/gleg['gama-spec']['haew'][:5]"
   ]
  },
  {
   "cell_type": "code",
   "execution_count": null,
   "metadata": {},
   "outputs": [],
   "source": [
    "gauss"
   ]
  },
  {
   "cell_type": "code",
   "execution_count": 23,
   "metadata": {},
   "outputs": [],
   "source": [
    "L_ha = 6563. # rest frame H-alpha"
   ]
  },
  {
   "cell_type": "code",
   "execution_count": null,
   "metadata": {},
   "outputs": [],
   "source": [
    "gleg['gama-spec']['ha'][0]/np.sqrt(2.*np.pi*gleg['gama-spec']['hasig']**2) * np.exp(-(wave_temp - L_ha*redshift[0]))"
   ]
  },
  {
   "cell_type": "code",
   "execution_count": 37,
   "metadata": {},
   "outputs": [
    {
     "data": {
      "text/plain": [
       "(2.0, 12.0)"
      ]
     },
     "execution_count": 37,
     "metadata": {},
     "output_type": "execute_result"
    },
    {
     "data": {
      "image/png": "[encoded data removed]",
      "text/plain": [
       "<Figure size 432x288 with 1 Axes>"
      ]
     },
     "metadata": {},
     "output_type": "display_data"
    }
   ],
   "source": [
    "fig = plt.figure()\n",
    "sub = fig.add_subplot(111)\n",
    "sub.plot(wave_temp, flux_temp[0].T)\n",
    "#sub.plot(wave_temp, gleg['gama-spec']['ha'][0]/np.sqrt(2.*np.pi*gleg['gama-spec']['hasig']**2) * np.exp(-(wave_temp)))\n",
    "sub.vlines(L_ha * (1.0+redshift[i_rand][0]), 0., 20., color='k', linewidth=2)\n",
    "sub.set_xlabel('Wavelength (A)', fontsize=20)\n",
    "sub.set_xlim([L_ha*(1.0+redshift[i_rand][0])-200., L_ha*(1.0+redshift[i_rand][0])+200.])\n",
    "sub.set_ylabel(r'$f(\\lambda) \\,\\,[10^{-17} erg/s/cm^2/A]$', fontsize=20)\n",
    "sub.set_ylim([2., 12.])"
   ]
  },
  {
   "cell_type": "code",
   "execution_count": 38,
   "metadata": {},
   "outputs": [
    {
     "name": "stdout",
     "output_type": "stream",
     "text": [
      "[0.2426  0.20734 0.29247 0.12436 0.12775 0.28254 0.13523 0.1838  0.20032\n",
      " 0.29827]\n"
     ]
    }
   ],
   "source": [
    "print redshift[i_rand]"
   ]
  }
 ],
 "metadata": {
  "kernelspec": {
   "display_name": "Python 2",
   "language": "python",
   "name": "python2"
  },
  "language_info": {
   "codemirror_mode": {
    "name": "ipython",
    "version": 2
   },
   "file_extension": ".py",
   "mimetype": "text/x-python",
   "name": "python",
   "nbconvert_exporter": "python",
   "pygments_lexer": "ipython2",
   "version": "2.7.14"
  }
 },
 "nbformat": 4,
 "nbformat_minor": 2
}
