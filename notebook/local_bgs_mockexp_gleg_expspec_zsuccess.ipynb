{
 "cells": [
  {
   "cell_type": "code",
   "execution_count": 1,
   "metadata": {},
   "outputs": [],
   "source": [
    "import h5py \n",
    "import numpy as np \n",
    "# -- astropy--\n",
    "from astropy.io import fits\n",
    "from astropy.table import Table as aTable\n",
    "# -- feasibgs -- \n",
    "from feasibgs import util as UT"
   ]
  },
  {
   "cell_type": "code",
   "execution_count": 2,
   "metadata": {},
   "outputs": [],
   "source": [
    "import matplotlib as mpl \n",
    "import matplotlib.pyplot as plt\n",
    "mpl.rcParams['text.usetex'] = True\n",
    "mpl.rcParams['font.family'] = 'serif'\n",
    "mpl.rcParams['axes.linewidth'] = 1.5\n",
    "mpl.rcParams['axes.xmargin'] = 1\n",
    "mpl.rcParams['xtick.labelsize'] = 'x-large'\n",
    "mpl.rcParams['xtick.major.size'] = 5\n",
    "mpl.rcParams['xtick.major.width'] = 1.5\n",
    "mpl.rcParams['ytick.labelsize'] = 'x-large'\n",
    "mpl.rcParams['ytick.major.size'] = 5\n",
    "mpl.rcParams['ytick.major.width'] = 1.5\n",
    "mpl.rcParams['legend.frameon'] = False\n",
    "%matplotlib inline"
   ]
  },
  {
   "cell_type": "code",
   "execution_count": 3,
   "metadata": {},
   "outputs": [],
   "source": [
    "iblocks = [1, 2, 3, 4, 5]\n",
    "nblock = 64"
   ]
  },
  {
   "cell_type": "code",
   "execution_count": 4,
   "metadata": {},
   "outputs": [],
   "source": [
    "# read in the block catalog\n",
    "dir_spec = ''.join([UT.dat_dir(), 'spectra/gamadr3_legacydr7/']) \n",
    "\n",
    "for iblock in iblocks: \n",
    "    fblock = h5py.File(''.join([dir_spec, 'g15.mockexp_block.', str(iblock), 'of', str(nblock), '.hdf5']), 'r') \n",
    "    if iblock == iblocks[0]: \n",
    "        block = {}\n",
    "        for g in fblock.keys():\n",
    "            block[g] = {} \n",
    "            for k in fblock[g].keys(): \n",
    "                block[g][k] = fblock[g][k].value\n",
    "    else: \n",
    "        for g in fblock.keys(): \n",
    "            for k in fblock[g].keys(): \n",
    "                block[g][k] = np.concatenate([block[g][k], fblock[g][k].value])\n",
    "    magnorm_flag = block['forwardmodel']['magnorm_flag']    \n",
    "    fblock.close()"
   ]
  },
  {
   "cell_type": "code",
   "execution_count": 5,
   "metadata": {},
   "outputs": [],
   "source": [
    "r_mag_legacy = UT.flux2mag(block['legacy-photo']['flux_r'])#, method='log')\n",
    "ztrue = block['gama-spec']['z']"
   ]
  },
  {
   "cell_type": "code",
   "execution_count": 6,
   "metadata": {},
   "outputs": [],
   "source": [
    "# read exposures from file\n",
    "fexp = h5py.File(''.join([UT.dat_dir(), 'bgs_survey_exposures.withsun.hdf5']), 'r')\n",
    "exps = {} \n",
    "for k in fexp.keys(): \n",
    "    exps[k] = fexp[k].value"
   ]
  },
  {
   "cell_type": "code",
   "execution_count": 7,
   "metadata": {},
   "outputs": [],
   "source": [
    "def zsuccess(zrr, ztrue, zwarn): \n",
    "    dz_1pz = np.abs(ztrue - zrr)/(1.+ztrue)\n",
    "    return (dz_1pz < 0.003) & (zwarn == 0)# & magnorm_flag"
   ]
  },
  {
   "cell_type": "code",
   "execution_count": 8,
   "metadata": {},
   "outputs": [],
   "source": [
    "def zsuccess_iexp(iexp, iblocks, ztrue=None, sky='old'): \n",
    "    z_rr, z_warn = [], [] \n",
    "    for iblock in iblocks: \n",
    "        if sky == 'old': \n",
    "            f_rr = ''.join([dir_spec, 'g15.sim_spectra.mockexp_block.', str(iblock), 'of', str(nblock), '.480.iexp', str(iexp), '.KSsky.rr.fits'])\n",
    "        elif sky == 'new':\n",
    "            f_rr = ''.join([dir_spec, 'g15.sim_spectra.mockexp_block.', str(iblock), 'of', str(nblock), '.480.iexp', str(iexp), '.newKSsky.rr.fits'])\n",
    "        z_iblock = fits.open(f_rr)[1].data\n",
    "        z_rr.append(z_iblock['Z'])\n",
    "        z_warn.append(z_iblock['ZWARN'])\n",
    "    return zsuccess(np.concatenate(z_rr), ztrue, np.concatenate(z_warn))"
   ]
  },
  {
   "cell_type": "code",
   "execution_count": 9,
   "metadata": {},
   "outputs": [],
   "source": [
    "ks_zsuccess0 = zsuccess_iexp(0, iblocks, ztrue=ztrue, sky='old') #zsuccess(zblock_ks0['Z'], ztrue, zblock_ks0['ZWARN'])\n",
    "ks_zsuccess_twi = zsuccess_iexp(2268, iblocks, ztrue=ztrue, sky='old') #zsuccess(zblock_ks_twi['Z'], ztrue, zblock_ks_twi['ZWARN'])\n",
    "#ks_zsuccess1 = zsuccess(zblock_ks1['Z'], ztrue, zblock_ks1['ZWARN'])\n",
    "#ks_zsuccess2 = zsuccess(zblock_ks2['Z'], ztrue, zblock_ks2['ZWARN'])\n",
    "\n",
    "newks_zsuccess0 = zsuccess_iexp(0, iblocks, ztrue=ztrue, sky='new') #zsuccess(zblock_newks0['Z'], ztrue, zblock_newks0['ZWARN'])\n",
    "newks_zsuccess_twi = zsuccess_iexp(2268, iblocks, ztrue=ztrue, sky='new') #zsuccess(zblock_newks_twi['Z'], ztrue, zblock_newks_twi['ZWARN'])\n",
    "#newks_zsuccess1 = zsuccess(zblock_newks1['Z'], ztrue, zblock_newks1['ZWARN'])\n",
    "#newks_zsuccess2 = zsuccess(zblock_newks2['Z'], ztrue, zblock_newks2['ZWARN'])"
   ]
  },
  {
   "cell_type": "code",
   "execution_count": 10,
   "metadata": {},
   "outputs": [],
   "source": [
    "def zsuccess_rate_magnorm(prop, zsuccess_cond, magnorm_flag, range=None, nbins=20, bin_min=2):\n",
    "    \"\"\" \n",
    "    \"\"\"\n",
    "    h0, bins = np.histogram(prop[magnorm_flag], bins=nbins, range=range)\n",
    "    hv, _ = np.histogram(prop[magnorm_flag], bins=bins, weights=prop[magnorm_flag])\n",
    "    h1, _ = np.histogram(prop[zsuccess_cond & magnorm_flag], bins=bins)\n",
    "    \n",
    "    good = h0 > bin_min\n",
    "    hv = hv[good]\n",
    "    h0 = h0[good]\n",
    "    h1 = h1[good]\n",
    "\n",
    "    vv = hv / h0 # weighted mean of var\n",
    "    \n",
    "    def _eff(k, n):\n",
    "        eff = k.astype(\"float\") / (n.astype('float') + (n==0))\n",
    "        efferr = np.sqrt(eff * (1 - eff)) / np.sqrt(n.astype('float') + (n == 0))\n",
    "        return eff, efferr\n",
    "    \n",
    "    e1, ee1 = _eff(h1, h0)\n",
    "    return vv, e1, ee1"
   ]
  },
  {
   "cell_type": "code",
   "execution_count": 11,
   "metadata": {},
   "outputs": [],
   "source": [
    "def zsuccess_faint(rmag, zsuccess_cond, magnorm_flag, rmag_cut=19.5): \n",
    "    ''' redshift success rate below rmag=(default 19.5)\n",
    "    '''\n",
    "    faint = (rmag > rmag_cut) & magnorm_flag\n",
    "    faint_success = (faint & zsuccess_cond & magnorm_flag)\n",
    "    \n",
    "    return float(np.sum(faint_success))/float(np.sum(faint))\n",
    "\n",
    "def zsuccess_bright(rmag, zsuccess_cond, magnorm_flag, rmag_cut=19.5): \n",
    "    ''' redshift success rate below rmag=(default 19.5)\n",
    "    '''\n",
    "    faint = (rmag < rmag_cut) & magnorm_flag\n",
    "    faint_success = (faint & zsuccess_cond & magnorm_flag)\n",
    "    \n",
    "    return float(np.sum(faint_success))/float(np.sum(faint))"
   ]
  },
  {
   "cell_type": "code",
   "execution_count": 12,
   "metadata": {},
   "outputs": [
    {
     "name": "stdout",
     "output_type": "stream",
     "text": [
      "-- Moon Ill. = 0.802702, Alt. = 31.072670, Sep. = 54.793890; Sun Alt. = -22.971529, Sep. = 79.898866 --\n",
      "KS sky: (z success rate r < 19.5) = 0.975736\n",
      "KS sky: (z success rate r > 19.5) = 0.975410\n",
      "KS sky: (z success rate r > 20.) = 0.841270\n",
      "KS sky: (z success rate r > 20.5) = 0.600000\n",
      "---\n",
      "new KS sky: (z success rate r < 19.5) = 0.970831\n",
      "new KS sky: (z success rate r > 19.5) = 0.960838\n",
      "new KS sky: (z success rate r > 20.) = 0.825397\n",
      "new KS sky: (z success rate r > 20.5) = 0.500000\n",
      "\n",
      "-- Moon Ill. = 0.697425, Alt. = -38.420428, Sep. = 140.772338; Sun Alt. = -13.081944, Sep. = 43.751247 --\n",
      "KS sky: (z success rate r < 19.5) = 0.979091\n",
      "KS sky: (z success rate r > 19.5) = 0.984517\n",
      "KS sky: (z success rate r > 20.) = 0.920635\n",
      "KS sky: (z success rate r > 20.5) = 0.700000\n",
      "---\n",
      "new KS sky: (z success rate r < 19.5) = 0.974703\n",
      "new KS sky: (z success rate r > 19.5) = 0.969035\n",
      "new KS sky: (z success rate r > 20.) = 0.825397\n",
      "new KS sky: (z success rate r > 20.5) = 0.500000\n",
      "\n"
     ]
    },
    {
     "data": {
      "image/png": "[encoded data removed]",
      "text/plain": [
       "<Figure size 432x288 with 1 Axes>"
      ]
     },
     "metadata": {
      "needs_background": "light"
     },
     "output_type": "display_data"
    },
    {
     "data": {
      "image/png": "[encoded data removed]",
      "text/plain": [
       "<Figure size 432x288 with 1 Axes>"
      ]
     },
     "metadata": {
      "needs_background": "light"
     },
     "output_type": "display_data"
    }
   ],
   "source": [
    "for iexp, ks_zsuc, newks_zsuc in zip([0, 2268], #100, 200], \n",
    "                                     [ks_zsuccess0, ks_zsuccess_twi], \n",
    "                                     [newks_zsuccess0, newks_zsuccess_twi]): \n",
    "    fig = plt.figure()\n",
    "    sub = fig.add_subplot(111)\n",
    "    sub.plot([15., 22.], [1., 1.], c='k', ls='--', lw=2)\n",
    "    mm, e1, ee1 = zsuccess_rate_magnorm(r_mag_legacy, ks_zsuc, magnorm_flag, nbins=20, range=[15., 22.])\n",
    "    sub.errorbar(mm, e1, ee1, color='k', fmt='o', label='original KS')\n",
    "    print(\"-- Moon Ill. = %f, Alt. = %f, Sep. = %f; Sun Alt. = %f, Sep. = %f --\" % (exps['MOONFRAC'][iexp], exps['MOONALT'][iexp], exps['MOONSEP'][iexp], exps['SUNALT'][iexp], exps['SUNSEP'][iexp]))\n",
    "    print('KS sky: (z success rate r < 19.5) = %f' % zsuccess_bright(r_mag_legacy, ks_zsuc, magnorm_flag, rmag_cut=19.5))\n",
    "    print('KS sky: (z success rate r > 19.5) = %f' % zsuccess_faint(r_mag_legacy, ks_zsuc, magnorm_flag, rmag_cut=19.5))\n",
    "    print('KS sky: (z success rate r > 20.) = %f' % zsuccess_faint(r_mag_legacy, ks_zsuc, magnorm_flag, rmag_cut=20.))\n",
    "    print('KS sky: (z success rate r > 20.5) = %f' % zsuccess_faint(r_mag_legacy, ks_zsuc, magnorm_flag, rmag_cut=20.5))\n",
    "    print('---')\n",
    "    \n",
    "    mm, e1, ee1 = zsuccess_rate_magnorm(r_mag_legacy, newks_zsuc, magnorm_flag, nbins=20, range=[15., 22.])\n",
    "    sub.errorbar(mm, e1, ee1, fmt='.C1', label='new KS')\n",
    "    print('new KS sky: (z success rate r < 19.5) = %f' % zsuccess_bright(r_mag_legacy, newks_zsuc, magnorm_flag, rmag_cut=19.5))\n",
    "    print('new KS sky: (z success rate r > 19.5) = %f' % zsuccess_faint(r_mag_legacy, newks_zsuc, magnorm_flag, rmag_cut=19.5))\n",
    "    print('new KS sky: (z success rate r > 20.) = %f' % zsuccess_faint(r_mag_legacy, newks_zsuc, magnorm_flag, rmag_cut=20.))\n",
    "    print('new KS sky: (z success rate r > 20.5) = %f' % zsuccess_faint(r_mag_legacy, newks_zsuc, magnorm_flag, rmag_cut=20.5))\n",
    "    print('')\n",
    "    \n",
    "    sub.set_xlabel(r'$r$ magnitude Legacy DR7', fontsize=20)\n",
    "    sub.set_xlim([15., 22.]) \n",
    "    sub.set_ylabel(r'redrock redshift success', fontsize=20)\n",
    "    sub.set_ylim([0., 1.2])\n",
    "    sub.legend(loc='lower left', handletextpad=0., prop={'size': 20})\n",
    "    sub.set_title((\"Moon Ill. = %f, Alt. = %f, Sep. = %f; Sun Alt. = %f, Sep. = %f --\" % (exps['MOONFRAC'][iexp], exps['MOONALT'][iexp], exps['MOONSEP'][iexp], exps['SUNALT'][iexp], exps['SUNSEP'][iexp])), fontsize=20)"
   ]
  },
  {
   "cell_type": "code",
   "execution_count": null,
   "metadata": {},
   "outputs": [],
   "source": []
  }
 ],
 "metadata": {
  "kernelspec": {
   "display_name": "Python 2",
   "language": "python",
   "name": "python2"
  },
  "language_info": {
   "codemirror_mode": {
    "name": "ipython",
    "version": 2
   },
   "file_extension": ".py",
   "mimetype": "text/x-python",
   "name": "python",
   "nbconvert_exporter": "python",
   "pygments_lexer": "ipython2",
   "version": "2.7.15"
  }
 },
 "nbformat": 4,
 "nbformat_minor": 2
}
