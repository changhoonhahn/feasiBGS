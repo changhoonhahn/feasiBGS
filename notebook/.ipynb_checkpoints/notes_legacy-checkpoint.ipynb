{
 "cells": [
  {
   "cell_type": "markdown",
   "metadata": {},
   "source": [
    "## Exploring the Legacy Survey DR5 imaging catalog"
   ]
  },
  {
   "cell_type": "code",
   "execution_count": 2,
   "metadata": {},
   "outputs": [],
   "source": [
    "import sys\n",
    "import numpy as np \n",
    "import corner as DFM\n",
    "from pydl.pydlutils.spheregroup import spherematch\n",
    "# -- local -- \n",
    "fbgs_path = os.path.abspath(os.path.join('..'))\n",
    "if fbgs_path not in sys.path: sys.path.append(fbgs_path)\n",
    "from feasibgs import util as UT\n",
    "from feasibgs import catalogs as Cat\n",
    "from ChangTools.fitstables import mrdfits"
   ]
  },
  {
   "cell_type": "code",
   "execution_count": 3,
   "metadata": {
    "collapsed": true
   },
   "outputs": [],
   "source": [
    "import matplotlib as mpl \n",
    "import matplotlib.pyplot as pl \n",
    "mpl.rcParams['text.usetex'] = True\n",
    "mpl.rcParams['font.family'] = 'serif'\n",
    "mpl.rcParams['axes.linewidth'] = 1.5\n",
    "mpl.rcParams['axes.xmargin'] = 1\n",
    "mpl.rcParams['xtick.labelsize'] = 'x-large'\n",
    "mpl.rcParams['xtick.major.size'] = 5\n",
    "mpl.rcParams['xtick.major.width'] = 1.5\n",
    "mpl.rcParams['ytick.labelsize'] = 'x-large'\n",
    "mpl.rcParams['ytick.major.size'] = 5\n",
    "mpl.rcParams['ytick.major.width'] = 1.5\n",
    "mpl.rcParams['legend.frameon'] = False\n",
    "%matplotlib inline"
   ]
  },
  {
   "cell_type": "markdown",
   "metadata": {},
   "source": [
    "Read in Legacy data"
   ]
  },
  {
   "cell_type": "code",
   "execution_count": 4,
   "metadata": {
    "collapsed": true
   },
   "outputs": [],
   "source": [
    "legacy = mrdfits(UT.dat_dir()+'survey-bricks-dr5.fits.gz')"
   ]
  },
  {
   "cell_type": "code",
   "execution_count": 5,
   "metadata": {},
   "outputs": [
    {
     "name": "stdout",
     "output_type": "stream",
     "text": [
      "colums in survey-bricks-dr5.fits.gz\n",
      "['brickname', 'dec', 'ebv', 'ext_g', 'ext_r', 'ext_w1', 'ext_w2', 'ext_w3', 'ext_w4', 'ext_z', 'galdepth_g', 'galdepth_r', 'galdepth_z', 'ncomp', 'ndev', 'nexp', 'nexp_g', 'nexp_r', 'nexp_z', 'nexphist_g', 'nexphist_r', 'nexphist_z', 'nobjs', 'npsf', 'nrex', 'nsimp', 'psfdepth_g', 'psfdepth_r', 'psfdepth_z', 'psfsize_g', 'psfsize_r', 'psfsize_z', 'ra', 'trans_g', 'trans_r', 'trans_wise', 'trans_z', 'wise_nobs']\n",
      ">>>>  176811\n"
     ]
    }
   ],
   "source": [
    "print 'colums in survey-bricks-dr5.fits.gz'\n",
    "print sorted(legacy.__dict__.keys())\n",
    "print '>>>> ', len(legacy.ra)"
   ]
  },
  {
   "cell_type": "code",
   "execution_count": null,
   "metadata": {
    "collapsed": true
   },
   "outputs": [],
   "source": [
    "sweep = mrdfits(UT.dat_dir()+'sweep-210m005-220p000.fits')"
   ]
  },
  {
   "cell_type": "code",
   "execution_count": null,
   "metadata": {},
   "outputs": [],
   "source": [
    "print 'colums in sweep-210m005-220p000.fits'\n",
    "print sorted(sweep.__dict__.keys())\n",
    "print '>>>> ', len(sweep.ra)"
   ]
  },
  {
   "cell_type": "code",
   "execution_count": null,
   "metadata": {
    "collapsed": true
   },
   "outputs": [],
   "source": [
    "tractor = mrdfits(UT.dat_dir()+'tractor-2101m005.fits')"
   ]
  },
  {
   "cell_type": "code",
   "execution_count": null,
   "metadata": {},
   "outputs": [],
   "source": [
    "print 'colums in tractor-2101m005.fits'\n",
    "print sorted(tractor.__dict__.keys())\n",
    "print '>>>> ', len(tractor.ra)\n",
    "print '>>>> ', tractor.ra.min(), tractor.ra.max()\n",
    "print '>>>> ', tractor.dec.min(), tractor.dec.max()"
   ]
  },
  {
   "cell_type": "code",
   "execution_count": null,
   "metadata": {},
   "outputs": [],
   "source": [
    "fig = plt.figure(figsize=(6,6))\n",
    "bkgd = fig.add_subplot(111, frameon=False)\n",
    "bkgd.tick_params(labelcolor='none', top='off', bottom='off', left='off', right='off')\n",
    "bkgd.set_xlabel('RA', labelpad=10, fontsize=25)\n",
    "bkgd.set_ylabel('Dec', labelpad=10, fontsize=25)\n",
    "\n",
    "sub = fig.add_subplot(111)\n",
    "sub.scatter(legacy.ra, legacy.dec, c='k', s=1, label='legacy DR5 brick')\n",
    "sub.scatter(sweep.ra[::10], sweep.dec[::10], c='C1', s=1, label='sweep')\n",
    "sub.scatter(tractor.ra, tractor.dec, c='C0', s=1, label='tractor')\n",
    "sub.set_xlim([0., 360.])\n",
    "#sub.set_ylim([-4., 3.5])\n",
    "sub.legend(loc='lower left', frameon=True, markerscale=5, prop={'size':15})"
   ]
  },
  {
   "cell_type": "code",
   "execution_count": null,
   "metadata": {},
   "outputs": [],
   "source": [
    "fig = plt.figure(figsize=(6,6))\n",
    "bkgd = fig.add_subplot(111, frameon=False)\n",
    "bkgd.tick_params(labelcolor='none', top='off', bottom='off', left='off', right='off')\n",
    "bkgd.set_xlabel('RA', labelpad=10, fontsize=25)\n",
    "bkgd.set_ylabel('Dec', labelpad=10, fontsize=25)\n",
    "\n",
    "sub = fig.add_subplot(111)\n",
    "sub.scatter(legacy.ra, legacy.dec, c='k', s=1, label='legacy DR5 brick')\n",
    "sub.scatter(sweep.ra[::10], sweep.dec[::10], c='C1', s=1, label='sweep')\n",
    "sub.scatter(tractor.ra, tractor.dec, c='C0', s=1, label='tractor')\n",
    "sub.set_xlim([205., 225])\n",
    "sub.set_ylim([-6., 2])\n",
    "sub.legend(loc='upper right', frameon=True, markerscale=5, prop={'size':15})"
   ]
  },
  {
   "cell_type": "code",
   "execution_count": null,
   "metadata": {},
   "outputs": [],
   "source": [
    "fig = plt.figure(figsize=(6,6))\n",
    "bkgd = fig.add_subplot(111, frameon=False)\n",
    "bkgd.tick_params(labelcolor='none', top='off', bottom='off', left='off', right='off')\n",
    "bkgd.set_xlabel('RA', labelpad=10, fontsize=25)\n",
    "bkgd.set_ylabel('Dec', labelpad=10, fontsize=25)\n",
    "\n",
    "sub = fig.add_subplot(111)\n",
    "sub.scatter(legacy.ra, legacy.dec, c='k', s=100, label='legacy DR5 brick')\n",
    "sub.scatter(sweep.ra[::10], sweep.dec[::10], c='C1', s=50, label='sweep')\n",
    "sub.scatter(tractor.ra, tractor.dec, c='C0', s=10, label='tractor')\n",
    "sub.set_xlim([210.10, 210.15])\n",
    "sub.set_ylim([-0.55, -0.45])\n",
    "sub.legend(loc='upper right', frameon=True, prop={'size':15})"
   ]
  },
  {
   "cell_type": "code",
   "execution_count": null,
   "metadata": {},
   "outputs": [],
   "source": [
    "fig = plt.figure(figsize=(6,6))\n",
    "bkgd = fig.add_subplot(111, frameon=False)\n",
    "bkgd.tick_params(labelcolor='none', top='off', bottom='off', left='off', right='off')\n",
    "bkgd.set_xlabel('RA', labelpad=10, fontsize=25)\n",
    "bkgd.set_ylabel('Dec', labelpad=10, fontsize=25)\n",
    "\n",
    "sub = fig.add_subplot(111)\n",
    "sub.scatter(legacy.ra, legacy.dec, c='k', s=100, label='legacy DR5 brick')\n",
    "sub.scatter(sweep.ra[::10], sweep.dec[::10], c='C1', s=50, label='sweep')\n",
    "sub.scatter(tractor.ra[tractor.brick_primary], tractor.dec[tractor.brick_primary], c='C0', s=10, label='tractor')\n",
    "sub.set_xlim([210.12, 210.13])\n",
    "sub.set_ylim([-0.52, -0.48])\n",
    "sub.legend(loc='upper right', frameon=True, prop={'size':15})"
   ]
  },
  {
   "cell_type": "code",
   "execution_count": null,
   "metadata": {
    "collapsed": true
   },
   "outputs": [],
   "source": []
  }
 ],
 "metadata": {
  "kernelspec": {
   "display_name": "Python 2",
   "language": "python",
   "name": "python2"
  },
  "language_info": {
   "codemirror_mode": {
    "name": "ipython",
    "version": 2
   },
   "file_extension": ".py",
   "mimetype": "text/x-python",
   "name": "python",
   "nbconvert_exporter": "python",
   "pygments_lexer": "ipython2",
   "version": "2.7.13"
  }
 },
 "nbformat": 4,
 "nbformat_minor": 2
}
