{
 "cells": [
  {
   "cell_type": "markdown",
   "metadata": {},
   "source": [
    "Notebook to determine the nominal exposure time of the BGS survey -- i.e. exposure time necessary to recover SNR~1 with dark sky. "
   ]
  },
  {
   "cell_type": "code",
   "execution_count": 1,
   "metadata": {},
   "outputs": [],
   "source": [
    "import os \n",
    "import h5py\n",
    "import pickle\n",
    "import numpy as np\n",
    "# -- astropy --\n",
    "from astropy import units as u\n",
    "from astropy.table import Table as aTable\n",
    "# -- desi -- \n",
    "import desisim.simexp\n",
    "from desispec.io import read_spectra\n",
    "# -- feasibgs -- \n",
    "from feasibgs import util as UT\n",
    "from feasibgs import catalogs as Cat\n",
    "from feasibgs import skymodel as Sky\n",
    "from feasibgs import forwardmodel as FM"
   ]
  },
  {
   "cell_type": "code",
   "execution_count": 2,
   "metadata": {},
   "outputs": [],
   "source": [
    "import matplotlib as mpl \n",
    "import matplotlib.pyplot as plt\n",
    "mpl.rcParams['text.usetex'] = True\n",
    "mpl.rcParams['font.family'] = 'serif'\n",
    "mpl.rcParams['axes.linewidth'] = 1.5\n",
    "mpl.rcParams['axes.xmargin'] = 1\n",
    "mpl.rcParams['xtick.labelsize'] = 'x-large'\n",
    "mpl.rcParams['xtick.major.size'] = 5\n",
    "mpl.rcParams['xtick.major.width'] = 1.5\n",
    "mpl.rcParams['ytick.labelsize'] = 'x-large'\n",
    "mpl.rcParams['ytick.major.size'] = 5\n",
    "mpl.rcParams['ytick.major.width'] = 1.5\n",
    "mpl.rcParams['legend.frameon'] = False\n",
    "%matplotlib inline"
   ]
  },
  {
   "cell_type": "markdown",
   "metadata": {},
   "source": [
    "Read in galaxies from GAMA DR3 G15"
   ]
  },
  {
   "cell_type": "code",
   "execution_count": 3,
   "metadata": {},
   "outputs": [
    {
     "name": "stdout",
     "output_type": "stream",
     "text": [
      "62362 galaxies in g15 region of GLeg catalog\n"
     ]
    }
   ],
   "source": [
    "cata = Cat.GamaLegacy()\n",
    "gleg = cata.Read('g15', dr_gama=3, dr_legacy=7)\n",
    "\n",
    "redshift = gleg['gama-spec']['z']\n",
    "absmag_ugriz = cata.AbsMag(gleg, kcorr=0.1, H0=70, Om0=0.3, galext=False) # ABSMAG k-correct to z=0.1\n",
    "ngal = len(redshift) # number of galaxies\n",
    "vdisp = np.repeat(100.0, ngal) # velocity dispersions [km/s]\n",
    "print('%i galaxies in %s region of GLeg catalog' % (ngal, 'g15'))\n",
    "\n",
    "r_mag_apflux = UT.flux2mag(gleg['legacy-photo']['apflux_r'][:,1])\n",
    "# r-band magnitude from GAMA (SDSS) photometry\n",
    "r_mag_gama = gleg['gama-photo']['r_model']\n",
    "r_mag_legacy = UT.flux2mag(gleg['legacy-photo']['flux_r'])"
   ]
  },
  {
   "cell_type": "code",
   "execution_count": 4,
   "metadata": {},
   "outputs": [
    {
     "name": "stdout",
     "output_type": "stream",
     "text": [
      "INFO:io.py:998:read_basis_templates: Reading /Users/ChangHoon/data/desi/spectro/templates/basis_templates/v2.5/bgs_templates_v2.1.fits metadata.\n",
      "0 galaxies do not have matches\n"
     ]
    }
   ],
   "source": [
    "bgs3 = FM.BGStree()\n",
    "match = bgs3._GamaLegacy(gleg)\n",
    "hasmatch = (match != -999)\n",
    "print('%i galaxies do not have matches' % (len(match) - np.sum(hasmatch)))"
   ]
  },
  {
   "cell_type": "markdown",
   "metadata": {},
   "source": [
    "Lets examine galaxies with $19.49 < r < 19.5$, the magnitude limit of the BGS bright sample"
   ]
  },
  {
   "cell_type": "code",
   "execution_count": 5,
   "metadata": {},
   "outputs": [
    {
     "name": "stdout",
     "output_type": "stream",
     "text": [
      "471 objects\n"
     ]
    }
   ],
   "source": [
    "r19_5 = (hasmatch & (r_mag_legacy > 19.49) & (r_mag_legacy < 19.5))\n",
    "print('%i objects' % np.sum(r19_5))"
   ]
  },
  {
   "cell_type": "code",
   "execution_count": 6,
   "metadata": {},
   "outputs": [
    {
     "name": "stdout",
     "output_type": "stream",
     "text": [
      "INFO:io.py:1010:read_basis_templates: Reading /Users/ChangHoon/data/desi/spectro/templates/basis_templates/v2.5/bgs_templates_v2.1.fits\n",
      "---- emission line flux constructed ----\n"
     ]
    },
    {
     "name": "stderr",
     "output_type": "stream",
     "text": [
      "/anaconda2/lib/python2.7/site-packages/speclite-0.9.dev497-py2.7.egg/speclite/filters.py:1466: FutureWarning: Using a non-tuple sequence for multidimensional indexing is deprecated; use `arr[tuple(seq)]` instead of `arr[seq]`. In the future this will be interpreted as an array index, `arr[np.array(seq)]`, which will result either in an error or a different result.\n",
      "  values_no_units = values_no_units[values_slice]\n"
     ]
    },
    {
     "name": "stdout",
     "output_type": "stream",
     "text": [
      "--------------------\n",
      "the 135 th galaxy has brighter emission lines than photometry...\n",
      "--------------------\n",
      "the 427 th galaxy has brighter emission lines than photometry...\n"
     ]
    }
   ],
   "source": [
    "s_bgs = FM.BGSsourceSpectra(wavemin=1500.0, wavemax=2e4)\n",
    "emline_flux = s_bgs.EmissionLineFlux(gleg, index=np.arange(ngal)[r19_5], dr_gama=3, silent=True)\n",
    "print('---- emission line flux constructed ----')\n",
    "flux_eml, wave, _, magnorm_flag = s_bgs.Spectra(r_mag_apflux[r19_5], redshift[r19_5],\n",
    "                                                vdisp[r19_5], seed=1, templateid=match[r19_5],\n",
    "                                                emflux=emline_flux, mag_em=r_mag_legacy[r19_5], silent=False)"
   ]
  },
  {
   "cell_type": "code",
   "execution_count": 7,
   "metadata": {},
   "outputs": [],
   "source": [
    "def get_simSpectra_SNR(simspec, i_spec): \n",
    "    snrs = [] \n",
    "    for band in ['b', 'r', 'z']: \n",
    "        these = ((simspec.wave[band] > np.mean(simspec.wave[band])-50) &\n",
    "                 (simspec.wave[band] < np.mean(simspec.wave[band])+50) &\n",
    "                 (simspec.flux[band][i_spec] > 0))\n",
    "        snrs.append(np.median(simspec.flux[band][i_spec, these] * np.sqrt(simspec.ivar[band][i_spec, these])))\n",
    "    return snrs"
   ]
  },
  {
   "cell_type": "code",
   "execution_count": 8,
   "metadata": {},
   "outputs": [],
   "source": [
    "fdesi = FM.fakeDESIspec()"
   ]
  },
  {
   "cell_type": "code",
   "execution_count": 9,
   "metadata": {},
   "outputs": [],
   "source": [
    "texps = [300, 200, 100]\n",
    "simspecs = [] \n",
    "for texp in texps: \n",
    "    simspecs_i = fdesi.simExposure(wave, flux_eml, exptime=texp, airmass=1., skycondition='dark')\n",
    "    simspecs.append(simspecs_i)"
   ]
  },
  {
   "cell_type": "code",
   "execution_count": 10,
   "metadata": {},
   "outputs": [],
   "source": [
    "snrs = np.zeros((len(simspecs), 3, np.sum(magnorm_flag)))\n",
    "\n",
    "i_specs = np.arange(len(magnorm_flag))[magnorm_flag]\n",
    "for _i in range(len(simspecs)): \n",
    "    for ii, i_spec in enumerate(i_specs): \n",
    "        snr_i= get_simSpectra_SNR(simspecs[_i], i_spec)\n",
    "        snrs[_i,:,ii] = np.array(snr_i)"
   ]
  },
  {
   "cell_type": "code",
   "execution_count": 11,
   "metadata": {},
   "outputs": [
    {
     "name": "stdout",
     "output_type": "stream",
     "text": [
      "texp = 300 b band median SNR=1.40\n",
      "texp = 200 b band median SNR=1.14\n",
      "texp = 100 b band median SNR=0.95\n",
      "texp = 300 r band median SNR=3.03\n",
      "texp = 200 r band median SNR=2.31\n",
      "texp = 100 r band median SNR=1.48\n",
      "texp = 300 z band median SNR=3.01\n",
      "texp = 200 z band median SNR=2.37\n",
      "texp = 100 z band median SNR=1.59\n"
     ]
    },
    {
     "data": {
      "image/png": "[encoded data removed]",
      "text/plain": [
       "<Figure size 1080x360 with 3 Axes>"
      ]
     },
     "metadata": {
      "needs_background": "light"
     },
     "output_type": "display_data"
    }
   ],
   "source": [
    "fig = plt.figure(figsize=(15,5))\n",
    "for i, band in enumerate(['b', 'r', 'z']): \n",
    "    sub = fig.add_subplot(1,3,1+i)\n",
    "    for _i in range(len(simspecs)): \n",
    "        sub.hist(snrs[_i, i,:], range=(0, 7.5), bins=40, color='C%i' % _i, alpha=0.75, label=r'$t_{\\rm exp} = %.f$' % texps[_i])\n",
    "        print('texp = %.f %s band median SNR=%.2f' % (texps[_i], band, np.median(snrs[_i,i,:])))\n",
    "    sub.set_xlabel(band+' SNR', fontsize=20)\n",
    "    sub.set_xlim([0., 7.5])\n",
    "    if i == 2: sub.legend(loc='upper right', fontsize=20)"
   ]
  }
 ],
 "metadata": {
  "kernelspec": {
   "display_name": "Python 2",
   "language": "python",
   "name": "python2"
  },
  "language_info": {
   "codemirror_mode": {
    "name": "ipython",
    "version": 2
   },
   "file_extension": ".py",
   "mimetype": "text/x-python",
   "name": "python",
   "nbconvert_exporter": "python",
   "pygments_lexer": "ipython2",
   "version": "2.7.15"
  }
 },
 "nbformat": 4,
 "nbformat_minor": 2
}
