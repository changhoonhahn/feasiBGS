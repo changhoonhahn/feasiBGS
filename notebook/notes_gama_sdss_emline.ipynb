{
 "cells": [
  {
   "cell_type": "markdown",
   "metadata": {},
   "source": [
    "Compare the emission line data from GAMA to the emission line data from SDSS DR7 "
   ]
  },
  {
   "cell_type": "code",
   "execution_count": 1,
   "metadata": {},
   "outputs": [],
   "source": [
    "import os\n",
    "import subprocess\n",
    "import numpy as np \n",
    "\n",
    "from astropy.io import fits \n",
    "\n",
    "from feasibgs import util as UT\n",
    "from feasibgs import catalogs as Cat"
   ]
  },
  {
   "cell_type": "code",
   "execution_count": 2,
   "metadata": {},
   "outputs": [],
   "source": [
    "import matplotlib as mpl \n",
    "import matplotlib.pyplot as pl \n",
    "mpl.rcParams['text.usetex'] = True\n",
    "mpl.rcParams['font.family'] = 'serif'\n",
    "mpl.rcParams['axes.linewidth'] = 1.5\n",
    "mpl.rcParams['axes.xmargin'] = 1\n",
    "mpl.rcParams['xtick.labelsize'] = 'x-large'\n",
    "mpl.rcParams['xtick.major.size'] = 5\n",
    "mpl.rcParams['xtick.major.width'] = 1.5\n",
    "mpl.rcParams['ytick.labelsize'] = 'x-large'\n",
    "mpl.rcParams['ytick.major.size'] = 5\n",
    "mpl.rcParams['ytick.major.width'] = 1.5\n",
    "mpl.rcParams['legend.frameon'] = False\n",
    "%matplotlib inline"
   ]
  },
  {
   "cell_type": "markdown",
   "metadata": {},
   "source": [
    "Read in GAMA-Legacy Catalog"
   ]
  },
  {
   "cell_type": "code",
   "execution_count": 3,
   "metadata": {},
   "outputs": [],
   "source": [
    "# read in GAMA-Legacy catalog\n",
    "cata = Cat.GamaLegacy()\n",
    "gleg = cata.Read()"
   ]
  },
  {
   "cell_type": "code",
   "execution_count": 4,
   "metadata": {},
   "outputs": [],
   "source": [
    "cataid = gleg['gama-photo']['cataid'] # GAMA catalog id of each object\n",
    "ngal = len(cataid)"
   ]
  },
  {
   "cell_type": "markdown",
   "metadata": {},
   "source": [
    "Read in GAMA SpecObj file"
   ]
  },
  {
   "cell_type": "code",
   "execution_count": 5,
   "metadata": {},
   "outputs": [],
   "source": [
    "# read in GAMA SpecObj file \n",
    "f_specobj = fits.open(''.join([UT.dat_dir(), 'gama/SpecObj.fits']))\n",
    "specobj_fits = f_specobj[1].data\n",
    "specobj_cataid = specobj_fits.field(\"CATAID\")"
   ]
  },
  {
   "cell_type": "code",
   "execution_count": 6,
   "metadata": {},
   "outputs": [],
   "source": [
    "#only keep galaxies with SDSS spectra \n",
    "fromsdss = (specobj_fits.field('SURVEY') == 'SDSS')"
   ]
  },
  {
   "cell_type": "code",
   "execution_count": 7,
   "metadata": {},
   "outputs": [],
   "source": [
    "cataid_common = np.intersect1d(cataid, specobj_cataid[fromsdss])"
   ]
  },
  {
   "cell_type": "code",
   "execution_count": 8,
   "metadata": {},
   "outputs": [
    {
     "name": "stdout",
     "output_type": "stream",
     "text": [
      "55 galaxies with SDSS spectra\n"
     ]
    }
   ],
   "source": [
    "print('%i galaxies with SDSS spectra' % len(cataid_common)) "
   ]
  },
  {
   "cell_type": "code",
   "execution_count": 9,
   "metadata": {},
   "outputs": [],
   "source": [
    "i_gleg = [] # idices of GAMA-Legacy objects with SDSS spectra\n",
    "for i in range(len(cataid_common)): \n",
    "    i_gleg.append(np.arange(ngal)[cataid == cataid_common[i]])\n",
    "i_gleg = np.array(i_gleg)"
   ]
  },
  {
   "cell_type": "code",
   "execution_count": 10,
   "metadata": {},
   "outputs": [],
   "source": [
    "for i in range(len(cataid_common)): \n",
    "    url_i = specobj_fits.field('URL')[specobj_cataid == cataid_common[i]][0]\n",
    "    f_i = url_i.split(\"/\")[-1]\n",
    "    f_i_local = ''.join([UT.dat_dir(), 'gama/spectra/', f_i])\n",
    "    if not os.path.isfile(f_i_local): \n",
    "        print('getting %s' % f_i_local)\n",
    "        cmd_getfile = ''.join(['curl -o ', f_i_local, ' ', url_i])\n",
    "        subprocess.call(cmd_getfile.split())"
   ]
  },
  {
   "cell_type": "code",
   "execution_count": 12,
   "metadata": {},
   "outputs": [],
   "source": [
    "sdss_emline = [] \n",
    "for i in range(len(cataid_common)): \n",
    "    url_i = specobj_fits.field('URL')[specobj_cataid == cataid_common[i]][0]\n",
    "    fits_spec_i = fits.open(''.join([UT.dat_dir(), 'gama/spectra/', url_i.split(\"/\")[-1]]))\n",
    "    sdss_emline.append(fits_spec_i[2].data)"
   ]
  },
  {
   "cell_type": "code",
   "execution_count": 25,
   "metadata": {},
   "outputs": [],
   "source": [
    "emline_index_sdss = [17, 18, 29, 30, 31, 36, 37, 38, 40, 41]\n",
    "emline_key = ['oiib', 'oiir', 'hb', 'oiiib', 'oiiir', 'niib', 'ha', 'niir', 'siib', 'siir']"
   ]
  },
  {
   "cell_type": "code",
   "execution_count": 63,
   "metadata": {},
   "outputs": [],
   "source": [
    "def emlineComparison(i_e): \n",
    "    fig = plt.figure(figsize=(8,4))\n",
    "    sub1 = fig.add_subplot(121)\n",
    "    sub2 = fig.add_subplot(122)    \n",
    "    sdss_emline_height = np.zeros(len(cataid_common))\n",
    "    sdss_emline_sigma = np.zeros(len(cataid_common))\n",
    "    for i in range(len(cataid_common)): \n",
    "        sdss_emline_height[i] = sdss_emline[i]['height'][emline_index_sdss[i_e]]\n",
    "        sdss_emline_sigma[i] = sdss_emline[i]['sigma'][emline_index_sdss[i_e]]\n",
    "        \n",
    "    gama_emline_integ = gleg['gama-spec'][emline_key[i_e]][i_gleg].flatten()\n",
    "    gama_emline_iline = gleg['gama-spec']['i'+emline_key[i_e]][i_gleg].flatten()\n",
    "    gama_emline_sigma = gleg['gama-spec'][emline_key[i_e]+'sig'][i_gleg].flatten()\n",
    "\n",
    "    hasemline = (sdss_emline_height != -9999.) & (sdss_emline_sigma != -9999.) & (gama_emline_integ != -99.)\n",
    "    sdss_emline_integ = sdss_emline_height[hasemline] * sdss_emline_sigma[hasemline] * np.sqrt(np.pi)\n",
    "    sub1.scatter(gama_emline_integ[hasemline], sdss_emline_integ)\n",
    "    sub1.scatter(gama_emline_iline[hasemline], sdss_emline_integ, c='C1')\n",
    "    sub1.plot([-50., 1000.], [-50., 1000.], c='k', ls='--')\n",
    "    sub1.set_xlabel('GAMA '+emline_key[i_e].upper()+' line flux')\n",
    "    sub1.set_ylabel('SDSS '+emline_key[i_e].upper()+' line flux')\n",
    "    sub1.set_xlim([-50., 1000.])\n",
    "    sub1.set_ylim([-50., 500.])\n",
    "    \n",
    "    sub2.scatter(gama_emline_sigma[hasemline], sdss_emline_sigma[hasemline])\n",
    "    sub2.plot([-10., 20.], [-10., 20.], c='k', ls='--')\n",
    "    sub2.set_xlabel('GAMA '+emline_key[i_e].upper()+' $\\sigma$')\n",
    "    sub2.set_ylabel('SDSS '+emline_key[i_e].upper()+' $\\sigma$')\n",
    "    \n",
    "    sub2.set_xlim([0., 10])\n",
    "    sub2.set_ylim([0., 10])\n",
    "    plt.show()"
   ]
  },
  {
   "cell_type": "code",
   "execution_count": 64,
   "metadata": {},
   "outputs": [
    {
     "data": {
      "image/png": "[encoded data removed]",
      "text/plain": [
       "<Figure size 576x288 with 2 Axes>"
      ]
     },
     "metadata": {},
     "output_type": "display_data"
    }
   ],
   "source": [
    "emlineComparison(2)"
   ]
  },
  {
   "cell_type": "code",
   "execution_count": 61,
   "metadata": {},
   "outputs": [
    {
     "data": {
      "image/png": "[encoded data removed]",
      "text/plain": [
       "<Figure size 576x288 with 2 Axes>"
      ]
     },
     "metadata": {},
     "output_type": "display_data"
    }
   ],
   "source": [
    "emlineComparison(6)"
   ]
  }
 ],
 "metadata": {
  "kernelspec": {
   "display_name": "Python 2",
   "language": "python",
   "name": "python2"
  },
  "language_info": {
   "codemirror_mode": {
    "name": "ipython",
    "version": 2
   },
   "file_extension": ".py",
   "mimetype": "text/x-python",
   "name": "python",
   "nbconvert_exporter": "python",
   "pygments_lexer": "ipython2",
   "version": "2.7.14"
  }
 },
 "nbformat": 4,
 "nbformat_minor": 2
}
