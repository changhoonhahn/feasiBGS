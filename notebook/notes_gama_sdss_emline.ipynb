{
 "cells": [
  {
   "cell_type": "markdown",
   "metadata": {},
   "source": [
    "Compare the emission line data from GAMA to the emission line data from SDSS DR7 "
   ]
  },
  {
   "cell_type": "code",
   "execution_count": 1,
   "metadata": {},
   "outputs": [],
   "source": [
    "import os\n",
    "import subprocess\n",
    "import numpy as np \n",
    "\n",
    "from astropy.io import fits \n",
    "\n",
    "from feasibgs import util as UT\n",
    "from feasibgs import catalogs as Cat"
   ]
  },
  {
   "cell_type": "code",
   "execution_count": 2,
   "metadata": {},
   "outputs": [],
   "source": [
    "import matplotlib as mpl \n",
    "import matplotlib.pyplot as pl \n",
    "mpl.rcParams['text.usetex'] = True\n",
    "mpl.rcParams['font.family'] = 'serif'\n",
    "mpl.rcParams['axes.linewidth'] = 1.5\n",
    "mpl.rcParams['axes.xmargin'] = 1\n",
    "mpl.rcParams['xtick.labelsize'] = 'x-large'\n",
    "mpl.rcParams['xtick.major.size'] = 5\n",
    "mpl.rcParams['xtick.major.width'] = 1.5\n",
    "mpl.rcParams['ytick.labelsize'] = 'x-large'\n",
    "mpl.rcParams['ytick.major.size'] = 5\n",
    "mpl.rcParams['ytick.major.width'] = 1.5\n",
    "mpl.rcParams['legend.frameon'] = False\n",
    "%matplotlib inline"
   ]
  },
  {
   "cell_type": "markdown",
   "metadata": {},
   "source": [
    "Read in GAMA-Legacy Catalog"
   ]
  },
  {
   "cell_type": "code",
   "execution_count": 5,
   "metadata": {},
   "outputs": [],
   "source": [
    "# read in GAMA-Legacy catalog\n",
    "cata = Cat.GamaLegacy()\n",
    "gleg = cata.Read()"
   ]
  },
  {
   "cell_type": "code",
   "execution_count": 15,
   "metadata": {},
   "outputs": [],
   "source": [
    "cataid = gleg['gama-photo']['cataid'] # GAMA catalog id of each object\n",
    "ngal = len(cataid)"
   ]
  },
  {
   "cell_type": "markdown",
   "metadata": {},
   "source": [
    "Read in GAMA SpecObj file"
   ]
  },
  {
   "cell_type": "code",
   "execution_count": 9,
   "metadata": {},
   "outputs": [],
   "source": [
    "# read in GAMA SpecObj file \n",
    "f_specobj = fits.open(''.join([UT.dat_dir(), 'gama/SpecObj.fits']))\n",
    "specobj_fits = f_specobj[1].data\n",
    "specobj_cataid = specobj_fits.field(\"CATAID\")"
   ]
  },
  {
   "cell_type": "code",
   "execution_count": 10,
   "metadata": {},
   "outputs": [],
   "source": [
    "#only keep galaxies with SDSS spectra \n",
    "fromsdss = (specobj_fits.field('SURVEY') == 'SDSS')"
   ]
  },
  {
   "cell_type": "code",
   "execution_count": 12,
   "metadata": {},
   "outputs": [],
   "source": [
    "cataid_common = np.intersect1d(cataid, specobj_cataid[fromsdss])"
   ]
  },
  {
   "cell_type": "code",
   "execution_count": 14,
   "metadata": {},
   "outputs": [
    {
     "name": "stdout",
     "output_type": "stream",
     "text": [
      "55 galaxies with SDSS spectra\n"
     ]
    }
   ],
   "source": [
    "print('%i galaxies with SDSS spectra' % len(cataid_common)) "
   ]
  },
  {
   "cell_type": "code",
   "execution_count": 17,
   "metadata": {},
   "outputs": [],
   "source": [
    "i_gleg = [] # idices of GAMA-Legacy objects with SDSS spectra\n",
    "for i in range(len(cataid_common)): \n",
    "    i_gleg.append(np.arange(ngal)[cataid == cataid_common[i]])\n",
    "i_gleg = np.array(i_gleg)"
   ]
  },
  {
   "cell_type": "code",
   "execution_count": 22,
   "metadata": {},
   "outputs": [
    {
     "name": "stdout",
     "output_type": "stream",
     "text": [
      "getting /Volumes/chang_eHDD/projects/feasiBGS/gama/spectra/spSpec-51658-0282-616.fit\n",
      "getting /Volumes/chang_eHDD/projects/feasiBGS/gama/spectra/spSpec-51959-0283-372.fit\n",
      "getting /Volumes/chang_eHDD/projects/feasiBGS/gama/spectra/spSpec-51959-0283-414.fit\n",
      "getting /Volumes/chang_eHDD/projects/feasiBGS/gama/spectra/spSpec-51959-0283-415.fit\n",
      "getting /Volumes/chang_eHDD/projects/feasiBGS/gama/spectra/spSpec-51959-0283-416.fit\n",
      "getting /Volumes/chang_eHDD/projects/feasiBGS/gama/spectra/spSpec-52023-0287-371.fit\n",
      "getting /Volumes/chang_eHDD/projects/feasiBGS/gama/spectra/spSpec-52023-0287-367.fit\n",
      "getting /Volumes/chang_eHDD/projects/feasiBGS/gama/spectra/spSpec-51994-0309-382.fit\n",
      "getting /Volumes/chang_eHDD/projects/feasiBGS/gama/spectra/spSpec-51658-0282-107.fit\n",
      "getting /Volumes/chang_eHDD/projects/feasiBGS/gama/spectra/spSpec-52023-0287-256.fit\n",
      "getting /Volumes/chang_eHDD/projects/feasiBGS/gama/spectra/spSpec-51637-0306-096.fit\n",
      "getting /Volumes/chang_eHDD/projects/feasiBGS/gama/spectra/spSpec-51658-0282-154.fit\n",
      "getting /Volumes/chang_eHDD/projects/feasiBGS/gama/spectra/spSpec-51658-0282-106.fit\n",
      "getting /Volumes/chang_eHDD/projects/feasiBGS/gama/spectra/spSpec-51658-0282-105.fit\n",
      "getting /Volumes/chang_eHDD/projects/feasiBGS/gama/spectra/spSpec-51658-0282-064.fit\n",
      "getting /Volumes/chang_eHDD/projects/feasiBGS/gama/spectra/spSpec-51658-0282-077.fit\n",
      "getting /Volumes/chang_eHDD/projects/feasiBGS/gama/spectra/spSpec-51959-0283-279.fit\n",
      "getting /Volumes/chang_eHDD/projects/feasiBGS/gama/spectra/spSpec-51943-0284-076.fit\n",
      "getting /Volumes/chang_eHDD/projects/feasiBGS/gama/spectra/spSpec-51658-0282-623.fit\n",
      "getting /Volumes/chang_eHDD/projects/feasiBGS/gama/spectra/spSpec-51658-0282-636.fit\n",
      "getting /Volumes/chang_eHDD/projects/feasiBGS/gama/spectra/spSpec-51959-0283-471.fit\n",
      "getting /Volumes/chang_eHDD/projects/feasiBGS/gama/spectra/spSpec-52023-0287-387.fit\n",
      "getting /Volumes/chang_eHDD/projects/feasiBGS/gama/spectra/spSpec-51999-0286-591.fit\n",
      "getting /Volumes/chang_eHDD/projects/feasiBGS/gama/spectra/spSpec-52023-0287-400.fit\n",
      "getting /Volumes/chang_eHDD/projects/feasiBGS/gama/spectra/spSpec-52023-0287-422.fit\n",
      "getting /Volumes/chang_eHDD/projects/feasiBGS/gama/spectra/spSpec-51959-0283-376.fit\n",
      "getting /Volumes/chang_eHDD/projects/feasiBGS/gama/spectra/spSpec-51999-0286-587.fit\n",
      "getting /Volumes/chang_eHDD/projects/feasiBGS/gama/spectra/spSpec-52023-0287-429.fit\n",
      "getting /Volumes/chang_eHDD/projects/feasiBGS/gama/spectra/spSpec-52023-0287-487.fit\n",
      "getting /Volumes/chang_eHDD/projects/feasiBGS/gama/spectra/spSpec-52023-0287-510.fit\n",
      "getting /Volumes/chang_eHDD/projects/feasiBGS/gama/spectra/spSpec-52023-0287-505.fit\n",
      "getting /Volumes/chang_eHDD/projects/feasiBGS/gama/spectra/spSpec-51959-0283-331.fit\n",
      "getting /Volumes/chang_eHDD/projects/feasiBGS/gama/spectra/spSpec-51959-0283-373.fit\n",
      "getting /Volumes/chang_eHDD/projects/feasiBGS/gama/spectra/spSpec-52313-0333-488.fit\n",
      "getting /Volumes/chang_eHDD/projects/feasiBGS/gama/spectra/spSpec-51901-0467-315.fit\n",
      "getting /Volumes/chang_eHDD/projects/feasiBGS/gama/spectra/spSpec-52029-0538-440.fit\n",
      "getting /Volumes/chang_eHDD/projects/feasiBGS/gama/spectra/spSpec-51901-0467-353.fit\n",
      "getting /Volumes/chang_eHDD/projects/feasiBGS/gama/spectra/spSpec-52027-0537-119.fit\n",
      "getting /Volumes/chang_eHDD/projects/feasiBGS/gama/spectra/spSpec-51901-0467-342.fit\n",
      "getting /Volumes/chang_eHDD/projects/feasiBGS/gama/spectra/spSpec-51658-0282-004.fit\n",
      "getting /Volumes/chang_eHDD/projects/feasiBGS/gama/spectra/spSpec-51662-0308-020.fit\n",
      "getting /Volumes/chang_eHDD/projects/feasiBGS/gama/spectra/spSpec-51999-0286-101.fit\n",
      "getting /Volumes/chang_eHDD/projects/feasiBGS/gama/spectra/spSpec-51658-0282-555.fit\n",
      "getting /Volumes/chang_eHDD/projects/feasiBGS/gama/spectra/spSpec-51658-0282-070.fit\n",
      "getting /Volumes/chang_eHDD/projects/feasiBGS/gama/spectra/spSpec-51959-0283-354.fit\n",
      "getting /Volumes/chang_eHDD/projects/feasiBGS/gama/spectra/spSpec-51959-0283-265.fit\n",
      "getting /Volumes/chang_eHDD/projects/feasiBGS/gama/spectra/spSpec-51959-0283-477.fit\n",
      "getting /Volumes/chang_eHDD/projects/feasiBGS/gama/spectra/spSpec-51999-0286-079.fit\n",
      "getting /Volumes/chang_eHDD/projects/feasiBGS/gama/spectra/spSpec-52000-0288-356.fit\n",
      "getting /Volumes/chang_eHDD/projects/feasiBGS/gama/spectra/spSpec-51658-0282-635.fit\n",
      "getting /Volumes/chang_eHDD/projects/feasiBGS/gama/spectra/spSpec-51999-0286-627.fit\n",
      "getting /Volumes/chang_eHDD/projects/feasiBGS/gama/spectra/spSpec-52023-0287-432.fit\n",
      "getting /Volumes/chang_eHDD/projects/feasiBGS/gama/spectra/spSpec-52023-0287-464.fit\n",
      "getting /Volumes/chang_eHDD/projects/feasiBGS/gama/spectra/spSpec-52023-0287-503.fit\n"
     ]
    }
   ],
   "source": [
    "for i in range(len(cataid_common)): \n",
    "    url_i = specobj_fits.field('URL')[specobj_cataid == cataid_common[i]][0]\n",
    "    f_i = url_i.split(\"/\")[-1]\n",
    "    f_i_local = ''.join([UT.dat_dir(), 'gama/spectra/', f_i])\n",
    "    if not os.path.isfile(f_i_local): \n",
    "        print('getting %s' % f_i_local)\n",
    "        cmd_getfile = ''.join(['curl -o ', f_i_local, ' ', url_i])\n",
    "        subprocess.call(cmd_getfile.split())"
   ]
  },
  {
   "cell_type": "code",
   "execution_count": null,
   "metadata": {},
   "outputs": [],
   "source": []
  }
 ],
 "metadata": {
  "kernelspec": {
   "display_name": "Python 2",
   "language": "python",
   "name": "python2"
  },
  "language_info": {
   "codemirror_mode": {
    "name": "ipython",
    "version": 2
   },
   "file_extension": ".py",
   "mimetype": "text/x-python",
   "name": "python",
   "nbconvert_exporter": "python",
   "pygments_lexer": "ipython2",
   "version": "2.7.14"
  }
 },
 "nbformat": 4,
 "nbformat_minor": 2
}
