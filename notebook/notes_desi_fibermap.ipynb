{
 "cells": [
  {
   "cell_type": "code",
   "execution_count": 10,
   "metadata": {},
   "outputs": [],
   "source": [
    "import os\n",
    "os.environ['DESI_BASIS_TEMPLATES']='/Volumes/chang_eHDD/projects/desi/spectro/templates/basis_templates/v2.3'\n",
    "import sys\n",
    "import time\n",
    "import numpy as np \n",
    "from astropy.table import Table\n",
    "# -- local -- \n",
    "from desispec.io import fibermap\n",
    "from desisim.obs import get_night\n",
    "from desitarget.targetmask import desi_mask"
   ]
  },
  {
   "cell_type": "code",
   "execution_count": 2,
   "metadata": {},
   "outputs": [],
   "source": [
    "frame_fibermap = fibermap.empty_fibermap(10)"
   ]
  },
  {
   "cell_type": "code",
   "execution_count": 3,
   "metadata": {},
   "outputs": [
    {
     "name": "stdout",
     "output_type": "stream",
     "text": [
      "OBJTYPE TARGETCAT BRICKNAME TARGETID ...       Y_FVCOBS      Y_FVCERR X_FVCERR\n",
      "------- --------- --------- -------- ... ------------------- -------- --------\n",
      "                                   0 ... -176.01638919931523      0.0      0.0\n",
      "                                   0 ... -157.13469763400894      0.0      0.0\n",
      "                                   0 ...  -194.5867907896165      0.0      0.0\n",
      "                                   0 ...  -172.6353696984339      0.0      0.0\n",
      "                                   0 ... -201.38581048833964      0.0      0.0\n",
      "                                   0 ... -181.58517140170764      0.0      0.0\n",
      "                                   0 ... -191.49059877421496      0.0      0.0\n",
      "                                   0 ... -152.83018832469193      0.0      0.0\n",
      "                                   0 ... -164.88082502320492      0.0      0.0\n",
      "                                   0 ... -206.98271227692425      0.0      0.0\n"
     ]
    }
   ],
   "source": [
    "print frame_fibermap"
   ]
  },
  {
   "cell_type": "code",
   "execution_count": 7,
   "metadata": {},
   "outputs": [],
   "source": [
    "frame_fibermap.meta['FLAVOR'] = 'custom'\n",
    "frame_fibermap.meta['NIGHT'] = get_night(utc=time.gmtime())\n",
    "frame_fibermap.meta['EXPID'] = 0 "
   ]
  },
  {
   "cell_type": "code",
   "execution_count": 8,
   "metadata": {},
   "outputs": [
    {
     "name": "stdout",
     "output_type": "stream",
     "text": [
      "OBJTYPE TARGETCAT BRICKNAME TARGETID ...       Y_FVCOBS      Y_FVCERR X_FVCERR\n",
      "------- --------- --------- -------- ... ------------------- -------- --------\n",
      "                                   0 ... -176.01638919931523      0.0      0.0\n",
      "                                   0 ... -157.13469763400894      0.0      0.0\n",
      "                                   0 ...  -194.5867907896165      0.0      0.0\n",
      "                                   0 ...  -172.6353696984339      0.0      0.0\n",
      "                                   0 ... -201.38581048833964      0.0      0.0\n",
      "                                   0 ... -181.58517140170764      0.0      0.0\n",
      "                                   0 ... -191.49059877421496      0.0      0.0\n",
      "                                   0 ... -152.83018832469193      0.0      0.0\n",
      "                                   0 ... -164.88082502320492      0.0      0.0\n",
      "                                   0 ... -206.98271227692425      0.0      0.0\n"
     ]
    }
   ],
   "source": [
    "print frame_fibermap"
   ]
  },
  {
   "cell_type": "code",
   "execution_count": 12,
   "metadata": {},
   "outputs": [],
   "source": [
    "tm = desi_mask\n",
    "frame_fibermap['DESI_TARGET'] = tm.BGS_ANY\n",
    "frame_fibermap['TARGETID'] = np.arange(10).astype(int)"
   ]
  },
  {
   "cell_type": "code",
   "execution_count": 13,
   "metadata": {},
   "outputs": [
    {
     "name": "stdout",
     "output_type": "stream",
     "text": [
      "OBJTYPE TARGETCAT BRICKNAME TARGETID ...       Y_FVCOBS      Y_FVCERR X_FVCERR\n",
      "------- --------- --------- -------- ... ------------------- -------- --------\n",
      "                                   0 ... -176.01638919931523      0.0      0.0\n",
      "                                   1 ... -157.13469763400894      0.0      0.0\n",
      "                                   2 ...  -194.5867907896165      0.0      0.0\n",
      "                                   3 ...  -172.6353696984339      0.0      0.0\n",
      "                                   4 ... -201.38581048833964      0.0      0.0\n",
      "                                   5 ... -181.58517140170764      0.0      0.0\n",
      "                                   6 ... -191.49059877421496      0.0      0.0\n",
      "                                   7 ... -152.83018832469193      0.0      0.0\n",
      "                                   8 ... -164.88082502320492      0.0      0.0\n",
      "                                   9 ... -206.98271227692425      0.0      0.0\n"
     ]
    }
   ],
   "source": [
    "print frame_fibermap"
   ]
  },
  {
   "cell_type": "code",
   "execution_count": 14,
   "metadata": {},
   "outputs": [
    {
     "name": "stdout",
     "output_type": "stream",
     "text": [
      "    DESI_TARGET    \n",
      "-------------------\n",
      "1152921504606846976\n",
      "1152921504606846976\n",
      "1152921504606846976\n",
      "1152921504606846976\n",
      "1152921504606846976\n",
      "1152921504606846976\n",
      "1152921504606846976\n",
      "1152921504606846976\n",
      "1152921504606846976\n",
      "1152921504606846976\n"
     ]
    }
   ],
   "source": [
    "print frame_fibermap['DESI_TARGET']"
   ]
  },
  {
   "cell_type": "code",
   "execution_count": 15,
   "metadata": {},
   "outputs": [],
   "source": [
    "from desisim.simexp import get_source_types"
   ]
  },
  {
   "cell_type": "code",
   "execution_count": 16,
   "metadata": {},
   "outputs": [
    {
     "name": "stdout",
     "output_type": "stream",
     "text": [
      "DEBUG:simexp.py:659:get_source_types: bgs 10 targets\n"
     ]
    },
    {
     "data": {
      "text/plain": [
       "array([u'bgs', u'bgs', u'bgs', u'bgs', u'bgs', u'bgs', u'bgs', u'bgs',\n",
       "       u'bgs', u'bgs'], dtype='<U4')"
      ]
     },
     "execution_count": 16,
     "metadata": {},
     "output_type": "execute_result"
    }
   ],
   "source": [
    "get_source_types(frame_fibermap)"
   ]
  },
  {
   "cell_type": "code",
   "execution_count": 20,
   "metadata": {},
   "outputs": [
    {
     "name": "stdout",
     "output_type": "stream",
     "text": [
      "DEBUG:simexp.py:659:get_source_types: bgs 10 targets\n",
      "[False False False False False False False False False False]\n"
     ]
    }
   ],
   "source": [
    "print get_source_types(frame_fibermap) != \"bgs\""
   ]
  },
  {
   "cell_type": "code",
   "execution_count": null,
   "metadata": {},
   "outputs": [],
   "source": []
  }
 ],
 "metadata": {
  "kernelspec": {
   "display_name": "Python 2",
   "language": "python",
   "name": "python2"
  },
  "language_info": {
   "codemirror_mode": {
    "name": "ipython",
    "version": 2
   },
   "file_extension": ".py",
   "mimetype": "text/x-python",
   "name": "python",
   "nbconvert_exporter": "python",
   "pygments_lexer": "ipython2",
   "version": "2.7.14"
  }
 },
 "nbformat": 4,
 "nbformat_minor": 2
}
