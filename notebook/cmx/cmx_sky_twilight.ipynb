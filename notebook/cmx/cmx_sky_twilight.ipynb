{
 "cells": [
  {
   "cell_type": "markdown",
   "metadata": {},
   "source": [
    "06/01/2020 The twilight contribution to $f_{\\rm sky}$ is outdated. This notebook explores whether we can improve $f_{\\rm sky}^{\\rm twi}$ with CMX data"
   ]
  },
  {
   "cell_type": "code",
   "execution_count": 1,
   "metadata": {},
   "outputs": [],
   "source": [
    "import warnings\n",
    "warnings.simplefilter(action='ignore', category=FutureWarning)\n",
    "\n",
    "import os\n",
    "import h5py\n",
    "import fitsio\n",
    "import numpy as np \n",
    "from astropy import units as u\n",
    "from scipy.signal import medfilt\n",
    "from feasibgs import skymodel as Sky\n",
    "# --- desihub ---\n",
    "import desisim.simexp"
   ]
  },
  {
   "cell_type": "code",
   "execution_count": 2,
   "metadata": {},
   "outputs": [],
   "source": [
    "# -- plotting -- \n",
    "import matplotlib as mpl\n",
    "import matplotlib.pyplot as plt\n",
    "mpl.rcParams['text.usetex'] = True\n",
    "mpl.rcParams['font.family'] = 'serif'\n",
    "mpl.rcParams['axes.linewidth'] = 1.5\n",
    "mpl.rcParams['axes.xmargin'] = 1\n",
    "mpl.rcParams['xtick.labelsize'] = 'x-large'\n",
    "mpl.rcParams['xtick.major.size'] = 5\n",
    "mpl.rcParams['xtick.major.width'] = 1.5\n",
    "mpl.rcParams['ytick.labelsize'] = 'x-large'\n",
    "mpl.rcParams['ytick.major.size'] = 5\n",
    "mpl.rcParams['ytick.major.width'] = 1.5\n",
    "mpl.rcParams['legend.frameon'] = False"
   ]
  },
  {
   "cell_type": "code",
   "execution_count": 3,
   "metadata": {},
   "outputs": [],
   "source": [
    "dir_cmx = '/Users/ChangHoon/data/feasiBGS/cmx/'\n",
    "dir_sky = '/Users/ChangHoon/data/feasiBGS/sky/'"
   ]
  },
  {
   "cell_type": "code",
   "execution_count": 4,
   "metadata": {},
   "outputs": [],
   "source": [
    "#desi_fiber_area = (1.46/2.)**2 * np.pi\n",
    "boss_fiber_area = np.pi"
   ]
  },
  {
   "cell_type": "code",
   "execution_count": 5,
   "metadata": {},
   "outputs": [],
   "source": [
    "def read_cmx_skies(): \n",
    "    ''' read CMX sky fibers and return median sky surface brightness measurements for each exposure\n",
    "    '''\n",
    "    #fsky = h5py.File(os.path.join(dir_cmx, 'sky_fibers.coadd_gfa.minisv2_sv0.hdf5'), 'r')\n",
    "    fsky = h5py.File(os.path.join(dir_cmx, 'sky_fibers.cmx.v1.hdf5'), 'r')\n",
    "    \n",
    "    sky_data = {}\n",
    "    for k in fsky.keys():\n",
    "        sky_data[k] = fsky[k][...]\n",
    "        \n",
    "    bad_seeing = (sky_data['tileid'] == 70502) | (sky_data['date'] == 20200314) #bad seeing on Feb 25 and 27\n",
    "\n",
    "    exp_cuts = ~bad_seeing\n",
    "\n",
    "    for k in sky_data.keys(): \n",
    "        if 'wave' not in k: \n",
    "            sky_data[k] = sky_data[k][exp_cuts]\n",
    "        else:\n",
    "            sky_data[k] = sky_data[k]\n",
    "            \n",
    "    uniq_exps, i_uniq = np.unique(sky_data['expid'], return_index=True)\n",
    "\n",
    "    # compile median observing conditions for each unique exposure and\n",
    "    # get the median sky fluxes of all sky fibers\n",
    "    sky_uniq_exps = {} \n",
    "    for k in ['date', 'tileid', 'expid', 'airmass', \n",
    "              'moon_ill', 'moon_alt', 'moon_sep', \n",
    "              'sun_alt', 'sun_sep', 'exptime']: \n",
    "        sky_uniq_exps[k] = np.zeros(len(uniq_exps))\n",
    "\n",
    "    sky_uniq_exps['wave_b'] = sky_data['wave_b']\n",
    "    sky_uniq_exps['wave_r'] = sky_data['wave_r']\n",
    "    sky_uniq_exps['wave_z'] = sky_data['wave_z']\n",
    "    \n",
    "    sky_uniq_exps['sky_b'] = np.zeros((len(uniq_exps), len(sky_data['wave_b'])))\n",
    "    sky_uniq_exps['sky_r'] = np.zeros((len(uniq_exps), len(sky_data['wave_r'])))\n",
    "    sky_uniq_exps['sky_z'] = np.zeros((len(uniq_exps), len(sky_data['wave_z'])))\n",
    "    \n",
    "    print('date \\t\\t tile \\t exp \\t texp \\t airmass \\t moon_ill \\t moon_alt \\t moon_sep')\n",
    "    for _i, _i_uniq, _exp in zip(range(len(i_uniq)), i_uniq, uniq_exps): \n",
    "        _is_exp = (sky_data['expid'] == _exp)\n",
    "\n",
    "        sky_uniq_exps['date'][_i] = sky_data['date'][_i_uniq]\n",
    "        sky_uniq_exps['tileid'][_i] = sky_data['tileid'][_i_uniq]\n",
    "        sky_uniq_exps['expid'][_i] = sky_data['expid'][_i_uniq]\n",
    "        sky_uniq_exps['airmass'][_i] = np.median(sky_data['airmass'][_is_exp])\n",
    "        sky_uniq_exps['moon_ill'][_i] = np.median(sky_data['moon_ill'][_is_exp])\n",
    "        sky_uniq_exps['moon_alt'][_i] = np.median(sky_data['moon_alt'][_is_exp])\n",
    "        sky_uniq_exps['moon_sep'][_i] = np.median(sky_data['moon_sep'][_is_exp])\n",
    "        sky_uniq_exps['exptime'][_i] = sky_data['exptime'][_is_exp][0]\n",
    "\n",
    "        sky_uniq_exps['sun_alt'][_i] = np.median(sky_data['sun_alt'][_is_exp])\n",
    "        sky_uniq_exps['sun_sep'][_i] = np.median(sky_data['sun_sep'][_is_exp])        \n",
    "\n",
    "        sky_uniq_exps['sky_b'][_i] = np.median(sky_data['sky_sb_b'][_is_exp], axis=0) \n",
    "        sky_uniq_exps['sky_r'][_i] = np.median(sky_data['sky_sb_r'][_is_exp], axis=0) \n",
    "        sky_uniq_exps['sky_z'][_i] = np.median(sky_data['sky_sb_z'][_is_exp], axis=0)\n",
    "\n",
    "        print('%i \\t %i \\t %i \\t %.f \\t %.2f \\t\\t %.2f \\t\\t %.1f \\t\\t %f' % \n",
    "              (sky_data['date'][_i_uniq], sky_data['tileid'][_i_uniq], sky_data['expid'][_i_uniq], \n",
    "               sky_uniq_exps['exptime'][_i], \n",
    "               sky_uniq_exps['airmass'][_i], sky_uniq_exps['moon_ill'][_i], \n",
    "               sky_uniq_exps['moon_alt'][_i], sky_uniq_exps['moon_sep'][_i]))\n",
    "\n",
    "    return sky_uniq_exps"
   ]
  },
  {
   "cell_type": "code",
   "execution_count": 6,
   "metadata": {},
   "outputs": [],
   "source": [
    "def read_BOSS_skies(): \n",
    "    ''' read sky fibers from BOSS\n",
    "    '''\n",
    "    f_boss = os.path.join(dir_sky, 'Bright_BOSS_Sky_blue.fits')\n",
    "    boss = fitsio.read(f_boss)    \n",
    "    f_red = os.path.join(dir_sky, 'Bright_BOSS_Sky_red.fits')\n",
    "    red = fitsio.read(f_red)\n",
    "    \n",
    "    sky_boss = {} \n",
    "    sky_boss['airmass'] = boss['AIRMASS']\n",
    "    sky_boss['moon_ill'] = boss['MOON_ILL']\n",
    "    sky_boss['moon_alt'] = boss['MOON_ALT']\n",
    "    sky_boss['moon_sep'] = boss['MOON_SEP']\n",
    "\n",
    "    sky_boss['sun_alt'] = boss['SUN_ALT']\n",
    "    sky_boss['sun_sep'] = boss['SUN_SEP']\n",
    "    \n",
    "    sky_boss['wave_b'] = boss['WAVE'] * 10. # convert to Angstroms\n",
    "    sky_boss['sky_b'] = boss['SKY'] / boss_fiber_area\n",
    "    sky_boss['wave_r'] = red['WAVE'] * 10.\n",
    "    sky_boss['sky_r'] = red['SKY'] / boss_fiber_area\n",
    "    return sky_boss"
   ]
  },
  {
   "cell_type": "code",
   "execution_count": 7,
   "metadata": {},
   "outputs": [
    {
     "name": "stdout",
     "output_type": "stream",
     "text": [
      "date \t\t tile \t exp \t texp \t airmass \t moon_ill \t moon_alt \t moon_sep\n",
      "20200303 \t 70500 \t 52932 \t 500 \t 1.15 \t\t 0.65 \t\t 35.8 \t\t 34.692321\n",
      "20200303 \t 70500 \t 52934 \t 500 \t 1.19 \t\t 0.65 \t\t 31.0 \t\t 34.557860\n",
      "20200303 \t 70500 \t 52936 \t 500 \t 1.25 \t\t 0.65 \t\t 26.2 \t\t 34.423687\n",
      "20200303 \t 70500 \t 52938 \t 500 \t 1.31 \t\t 0.65 \t\t 21.6 \t\t 34.292890\n",
      "20200303 \t 70500 \t 52940 \t 500 \t 1.39 \t\t 0.65 \t\t 17.0 \t\t 34.162246\n",
      "20200303 \t 70500 \t 52942 \t 500 \t 1.49 \t\t 0.66 \t\t 12.2 \t\t 34.026271\n",
      "20200304 \t 70510 \t 53078 \t 500 \t 1.43 \t\t 0.74 \t\t 55.8 \t\t 79.209427\n",
      "20200304 \t 70510 \t 53080 \t 500 \t 1.34 \t\t 0.75 \t\t 52.1 \t\t 79.061903\n",
      "20200304 \t 70510 \t 53081 \t 500 \t 1.29 \t\t 0.75 \t\t 49.2 \t\t 78.944160\n",
      "20200304 \t 70510 \t 53082 \t 500 \t 1.24 \t\t 0.75 \t\t 46.4 \t\t 78.827312\n",
      "20200304 \t 70510 \t 53083 \t 500 \t 1.19 \t\t 0.75 \t\t 43.5 \t\t 78.710167\n",
      "20200304 \t 70510 \t 53084 \t 500 \t 1.16 \t\t 0.75 \t\t 40.7 \t\t 78.593746\n",
      "20200304 \t 70510 \t 53085 \t 500 \t 1.13 \t\t 0.75 \t\t 37.8 \t\t 78.477009\n",
      "20200304 \t 70510 \t 53086 \t 500 \t 1.10 \t\t 0.75 \t\t 34.9 \t\t 78.352014\n",
      "20200304 \t 70510 \t 53087 \t 500 \t 1.07 \t\t 0.75 \t\t 32.0 \t\t 78.234978\n",
      "20200304 \t 70510 \t 53088 \t 500 \t 1.05 \t\t 0.75 \t\t 29.3 \t\t 78.122516\n",
      "20200304 \t 70510 \t 53089 \t 500 \t 1.04 \t\t 0.75 \t\t 26.5 \t\t 78.006523\n",
      "20200304 \t 70510 \t 53090 \t 500 \t 1.02 \t\t 0.75 \t\t 23.7 \t\t 77.890318\n",
      "20200315 \t 66003 \t 55654 \t 450 \t 1.27 \t\t 0.50 \t\t 18.5 \t\t 107.622483\n",
      "20200315 \t 66003 \t 55655 \t 450 \t 1.30 \t\t 0.50 \t\t 20.5 \t\t 107.703548\n",
      "20200315 \t 66003 \t 55656 \t 450 \t 1.33 \t\t 0.50 \t\t 22.5 \t\t 107.787263\n"
     ]
    }
   ],
   "source": [
    "cmx_skies = read_cmx_skies()"
   ]
  },
  {
   "cell_type": "code",
   "execution_count": 8,
   "metadata": {},
   "outputs": [],
   "source": [
    "boss_skies = read_BOSS_skies()"
   ]
  },
  {
   "cell_type": "code",
   "execution_count": 9,
   "metadata": {},
   "outputs": [
    {
     "data": {
      "text/plain": [
       "Text(0, 0.5, 'sun alt')"
      ]
     },
     "execution_count": 9,
     "metadata": {},
     "output_type": "execute_result"
    },
    {
     "data": {
      "image/png": "[encoded data removed]",
      "text/plain": [
       "<Figure size 360x360 with 1 Axes>"
      ]
     },
     "metadata": {
      "needs_background": "light"
     },
     "output_type": "display_data"
    }
   ],
   "source": [
    "fig = plt.figure(figsize=(5,5))\n",
    "sub = fig.add_subplot(111)\n",
    "sub.scatter(boss_skies['sun_sep'], boss_skies['sun_alt'], c='C0', label='BOSS')\n",
    "sub.scatter(cmx_skies['sun_sep'], cmx_skies['sun_alt'], c='C1', label='DESI CMX')\n",
    "sub.plot([0., 180.], [-15, -15], c='k', ls='--', label='-15 deg')\n",
    "sub.legend(loc='lower left', frameon=True, handletextpad=0, fontsize=15)\n",
    "sub.set_xlabel('sun sep.', fontsize=20)\n",
    "sub.set_xlim(0., 180.)\n",
    "sub.set_ylabel('sun alt', fontsize=20)"
   ]
  }
 ],
 "metadata": {
  "kernelspec": {
   "display_name": "Python 3",
   "language": "python",
   "name": "python3"
  },
  "language_info": {
   "codemirror_mode": {
    "name": "ipython",
    "version": 3
   },
   "file_extension": ".py",
   "mimetype": "text/x-python",
   "name": "python",
   "nbconvert_exporter": "python",
   "pygments_lexer": "ipython3",
   "version": "3.7.6"
  }
 },
 "nbformat": 4,
 "nbformat_minor": 4
}
