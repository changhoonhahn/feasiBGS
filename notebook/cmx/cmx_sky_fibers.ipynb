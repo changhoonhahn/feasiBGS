{
 "cells": [
  {
   "cell_type": "code",
   "execution_count": 6,
   "metadata": {},
   "outputs": [],
   "source": [
    "import os\n",
    "import h5py\n",
    "import fitsio\n",
    "import numpy as np \n",
    "# --- desihub --- \n",
    "from desitarget.cmx import cmx_targetmask"
   ]
  },
  {
   "cell_type": "code",
   "execution_count": 2,
   "metadata": {},
   "outputs": [],
   "source": [
    "# -- plotting -- \n",
    "import matplotlib as mpl\n",
    "import matplotlib.pyplot as plt\n",
    "mpl.rcParams['text.usetex'] = True\n",
    "mpl.rcParams['font.family'] = 'serif'\n",
    "mpl.rcParams['axes.linewidth'] = 1.5\n",
    "mpl.rcParams['axes.xmargin'] = 1\n",
    "mpl.rcParams['xtick.labelsize'] = 'x-large'\n",
    "mpl.rcParams['xtick.major.size'] = 5\n",
    "mpl.rcParams['xtick.major.width'] = 1.5\n",
    "mpl.rcParams['ytick.labelsize'] = 'x-large'\n",
    "mpl.rcParams['ytick.major.size'] = 5\n",
    "mpl.rcParams['ytick.major.width'] = 1.5\n",
    "mpl.rcParams['legend.frameon'] = False"
   ]
  },
  {
   "cell_type": "code",
   "execution_count": 3,
   "metadata": {},
   "outputs": [],
   "source": [
    "dir_cmx = '/Users/ChangHoon/data/feasiBGS/cmx/'"
   ]
  },
  {
   "cell_type": "code",
   "execution_count": 31,
   "metadata": {},
   "outputs": [],
   "source": [
    "# -- astorpy -- \n",
    "import astropy.units as u\n",
    "from astropy.time import Time\n",
    "from astropy.coordinates import EarthLocation, SkyCoord, AltAz, get_sun, get_moon\n",
    "\n",
    "import warnings, astropy._erfa.core\n",
    "from astropy.utils.iers import conf\n",
    "conf.auto_max_age = None\n",
    "warnings.filterwarnings('ignore', category=astropy._erfa.core.ErfaWarning)\n",
    "\n",
    "kpno = EarthLocation.of_site('kitt peak')\n",
    "\n",
    "def _get_obs_param(ra, dec, mjd):\n",
    "    ''' get observing condition given tileid and time of observation \n",
    "    '''\n",
    "    # get observing conditions\n",
    "    coord = SkyCoord(ra=ra * u.deg, dec=dec * u.deg) \n",
    "    utc_time = Time(mjd, format='mjd') # observed time (UTC)          \n",
    "\n",
    "    kpno_altaz = AltAz(obstime=utc_time, location=kpno) \n",
    "    coord_altaz = coord.transform_to(kpno_altaz)\n",
    "\n",
    "    airmass = coord_altaz.secz\n",
    "\n",
    "    # sun\n",
    "    sun         = get_sun(utc_time) \n",
    "    sun_altaz   = sun.transform_to(kpno_altaz) \n",
    "    sun_alt     = sun_altaz.alt.deg\n",
    "    sun_sep     = sun.separation(coord).deg # sun separation\n",
    "    # moon\n",
    "    moon        = get_moon(utc_time)\n",
    "    moon_altaz  = moon.transform_to(kpno_altaz) \n",
    "    moon_alt    = moon_altaz.alt.deg \n",
    "    moon_sep    = moon.separation(coord).deg #coord.separation(self.moon).deg\n",
    "            \n",
    "    elongation  = sun.separation(moon)\n",
    "    phase       = np.arctan2(sun.distance * np.sin(elongation), moon.distance - sun.distance*np.cos(elongation))\n",
    "    moon_phase  = phase.value\n",
    "    moon_ill    = (1. + np.cos(phase))/2.\n",
    "    return airmass.value, moon_ill.value, moon_alt, moon_sep, sun_alt, sun_sep"
   ]
  },
  {
   "cell_type": "markdown",
   "metadata": {},
   "source": [
    "Read in coadd of single exposure"
   ]
  },
  {
   "cell_type": "code",
   "execution_count": 32,
   "metadata": {},
   "outputs": [],
   "source": [
    "f_coadd = 'coadd-70500-20200303-0-00052932.fits'\n",
    "coadd = fitsio.read(os.path.join(dir_cmx, f_coadd))\n",
    "wave = fitsio.read(os.path.join(dir_cmx, f_coadd), ext=2)\n",
    "flux = fitsio.read(os.path.join(dir_cmx, f_coadd), ext=3)"
   ]
  },
  {
   "cell_type": "markdown",
   "metadata": {},
   "source": [
    "Lets only keep the good sky fibers"
   ]
  },
  {
   "cell_type": "code",
   "execution_count": 33,
   "metadata": {},
   "outputs": [
    {
     "name": "stdout",
     "output_type": "stream",
     "text": [
      "80 sky fibers\n",
      "69 good sky fibers\n"
     ]
    }
   ],
   "source": [
    "is_good = (coadd['FIBERSTATUS'] == 0)\n",
    "is_sky = ((coadd['CMX_TARGET'] & cmx_targetmask.cmx_mask.mask('SKY')) != 0)\n",
    "print('%i sky fibers' % np.sum(is_sky)) \n",
    "print('%i good sky fibers' % np.sum(is_good & is_sky))"
   ]
  },
  {
   "cell_type": "markdown",
   "metadata": {},
   "source": [
    "Get MJD from GFA data that Aaron compiled and derive observing conditions"
   ]
  },
  {
   "cell_type": "code",
   "execution_count": 34,
   "metadata": {},
   "outputs": [],
   "source": [
    "gfa = fitsio.read(os.path.join(dir_cmx, 'offline_all_guide_ccds_thru_20200315.fits'))"
   ]
  },
  {
   "cell_type": "code",
   "execution_count": 35,
   "metadata": {},
   "outputs": [
    {
     "name": "stdout",
     "output_type": "stream",
     "text": [
      "768 GFA exposure matches\n"
     ]
    }
   ],
   "source": [
    "# match to GFA obs condition using NIGHT and EXPID\n",
    "date    = int(f_coadd.split('-')[2]) \n",
    "tileid  = int(f_coadd.split('-')[1]) \n",
    "expid   = int(f_coadd.split('-')[-1].replace('.fits',''))\n",
    "\n",
    "# match to GFA \n",
    "m_gfa = ((gfa['NIGHT'] == date) & (gfa['EXPID'] == expid))\n",
    "\n",
    "# median MJD of GFA data \n",
    "mjd_mid = np.median(gfa['MJD'][m_gfa])"
   ]
  },
  {
   "cell_type": "code",
   "execution_count": 36,
   "metadata": {},
   "outputs": [],
   "source": [
    "airmass, moon_ill, moon_alt, moon_sep, sun_alt, sun_sep = _get_obs_param(coadd['TARGET_RA'][is_good & is_sky], coadd['TARGET_DEC'][is_good & is_sky], mjd_mid)"
   ]
  },
  {
   "cell_type": "code",
   "execution_count": 38,
   "metadata": {},
   "outputs": [
    {
     "name": "stdout",
     "output_type": "stream",
     "text": [
      "airmass 1.1479\n",
      "moon illumination 0.6481\n",
      "moon altitude 35.7614\n",
      "moon separation 34.0675\n"
     ]
    }
   ],
   "source": [
    "print('airmass %.4f' % np.median(airmass))\n",
    "print('moon illumination %.4f' % moon_ill)\n",
    "print('moon altitude %.4f' % moon_alt)\n",
    "print('moon separation %.4f' % np.median(moon_sep))"
   ]
  },
  {
   "cell_type": "code",
   "execution_count": 43,
   "metadata": {},
   "outputs": [
    {
     "data": {
      "text/plain": [
       "(0.0, 10.0)"
      ]
     },
     "execution_count": 43,
     "metadata": {},
     "output_type": "execute_result"
    },
    {
     "data": {
      "image/png": "[encoded data removed]",
      "text/plain": [
       "<Figure size 720x360 with 1 Axes>"
      ]
     },
     "metadata": {
      "needs_background": "light"
     },
     "output_type": "display_data"
    }
   ],
   "source": [
    "fig = plt.figure(figsize=(10,5))\n",
    "sub = fig.add_subplot(111)\n",
    "sub.plot(wave, flux[is_good & is_sky,:][0])\n",
    "sub.plot(wave, flux[is_good & is_sky,:][5])\n",
    "sub.plot(wave, flux[is_good & is_sky,:][20])\n",
    "sub.plot(wave, np.average(flux[is_good & is_sky,:], axis=0), c='k', ls='--')\n",
    "sub.set_xlim(3600, 9800)\n",
    "sub.set_ylim(0., 10.)"
   ]
  },
  {
   "cell_type": "code",
   "execution_count": null,
   "metadata": {},
   "outputs": [],
   "source": []
  }
 ],
 "metadata": {
  "kernelspec": {
   "display_name": "Python 3",
   "language": "python",
   "name": "python3"
  },
  "language_info": {
   "codemirror_mode": {
    "name": "ipython",
    "version": 3
   },
   "file_extension": ".py",
   "mimetype": "text/x-python",
   "name": "python",
   "nbconvert_exporter": "python",
   "pygments_lexer": "ipython3",
   "version": "3.7.3"
  }
 },
 "nbformat": 4,
 "nbformat_minor": 4
}
