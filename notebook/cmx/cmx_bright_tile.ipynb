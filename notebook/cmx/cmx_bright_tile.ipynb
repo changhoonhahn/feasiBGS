{
 "cells": [
  {
   "cell_type": "code",
   "execution_count": 5,
   "metadata": {},
   "outputs": [],
   "source": [
    "import os\n",
    "import h5py\n",
    "import numpy as np"
   ]
  },
  {
   "cell_type": "code",
   "execution_count": 6,
   "metadata": {},
   "outputs": [],
   "source": [
    "if 'NERSC_HOST' not in os.environ:\n",
    "    dir_cmx = '/Users/ChangHoon/data/feasiBGS/cmx/'\n",
    "    dir_sky = '/Users/ChangHoon/data/feasiBGS/sky/'\n",
    "else: \n",
    "    dir_cmx = '/global/cfs/cdirs/desi/users/chahah/bgs_exp_coadd/'\n",
    "    dir_sky = '/global/cfs/cdirs/desi/users/chahah/sky/'"
   ]
  },
  {
   "cell_type": "code",
   "execution_count": 11,
   "metadata": {},
   "outputs": [],
   "source": [
    "fsky = h5py.File(os.path.join(dir_cmx, 'sky_fibers.cmx.v1.hdf5'), 'r')\n",
    "    \n",
    "sky_data = {}\n",
    "for k in fsky.keys():\n",
    "    sky_data[k] = fsky[k][...]"
   ]
  },
  {
   "cell_type": "code",
   "execution_count": 13,
   "metadata": {},
   "outputs": [],
   "source": [
    "def read_cmx_skies(): \n",
    "    ''' read CMX sky fibers and return median sky surface brightness measurements for each exposure\n",
    "    '''\n",
    "    fsky = h5py.File(os.path.join(dir_cmx, 'sky_fibers.cmx.v1.hdf5'), 'r')\n",
    "    \n",
    "    sky_data = {}\n",
    "    for k in fsky.keys():\n",
    "        sky_data[k] = fsky[k][...]\n",
    "        \n",
    "    bad_seeing = (sky_data['tileid'] == 70502) | (sky_data['date'] == 20200314) #bad seeing on Feb 25 and 27\n",
    "\n",
    "    exp_cuts = ~bad_seeing\n",
    "\n",
    "    for k in sky_data.keys(): \n",
    "        if 'wave' not in k: \n",
    "            sky_data[k] = sky_data[k][exp_cuts]\n",
    "        else:\n",
    "            sky_data[k] = sky_data[k]\n",
    "            \n",
    "    uniq_exps, i_uniq = np.unique(sky_data['expid'], return_index=True)\n",
    "\n",
    "    # compile median observing conditions for each unique exposure and\n",
    "    # get the median sky fluxes of all sky fibers\n",
    "    sky_uniq_exps = {} \n",
    "    for k in ['date', 'tileid', 'expid', \n",
    "              'airmass', 'moon_ill', 'moon_alt', 'moon_sep', \n",
    "              'sun_alt', 'sun_sep', 'exptime', \n",
    "              'sky_ratio_5000']: \n",
    "        sky_uniq_exps[k] = np.zeros(len(uniq_exps))\n",
    "\n",
    "    sky_uniq_exps['wave_b'] = sky_data['wave_b']\n",
    "    sky_uniq_exps['wave_r'] = sky_data['wave_r']\n",
    "    sky_uniq_exps['wave_z'] = sky_data['wave_z']\n",
    "    \n",
    "    sky_uniq_exps['sky_b'] = np.zeros((len(uniq_exps), len(sky_data['wave_b'])))\n",
    "    sky_uniq_exps['sky_r'] = np.zeros((len(uniq_exps), len(sky_data['wave_r'])))\n",
    "    sky_uniq_exps['sky_z'] = np.zeros((len(uniq_exps), len(sky_data['wave_z'])))\n",
    "    \n",
    "    print('date \\t\\t tile \\t exp \\t texp \\t airmass \\t moon_ill \\t moon_alt \\t moon_sep')\n",
    "    for _i, _i_uniq, _exp in zip(range(len(i_uniq)), i_uniq, uniq_exps): \n",
    "        _is_exp = (sky_data['expid'] == _exp)\n",
    "\n",
    "        sky_uniq_exps['date'][_i] = sky_data['date'][_i_uniq]\n",
    "        sky_uniq_exps['tileid'][_i] = sky_data['tileid'][_i_uniq]\n",
    "        sky_uniq_exps['expid'][_i] = sky_data['expid'][_i_uniq]\n",
    "        sky_uniq_exps['airmass'][_i] = np.median(sky_data['airmass'][_is_exp])\n",
    "        sky_uniq_exps['moon_ill'][_i] = np.median(sky_data['moon_ill'][_is_exp])\n",
    "        sky_uniq_exps['moon_alt'][_i] = np.median(sky_data['moon_alt'][_is_exp])\n",
    "        sky_uniq_exps['moon_sep'][_i] = np.median(sky_data['moon_sep'][_is_exp])\n",
    "        sky_uniq_exps['exptime'][_i] = sky_data['exptime'][_is_exp][0]\n",
    "\n",
    "        sky_uniq_exps['sun_alt'][_i] = np.median(sky_data['sun_alt'][_is_exp])\n",
    "        sky_uniq_exps['sun_sep'][_i] = np.median(sky_data['sun_sep'][_is_exp])        \n",
    "        \n",
    "        sky_uniq_exps['sky_b'][_i] = np.median(sky_data['sky_sb_b'][_is_exp], axis=0) \n",
    "        sky_uniq_exps['sky_r'][_i] = np.median(sky_data['sky_sb_r'][_is_exp], axis=0) \n",
    "        sky_uniq_exps['sky_z'][_i] = np.median(sky_data['sky_sb_z'][_is_exp], axis=0)\n",
    "        \n",
    "        sky_uniq_exps['sky_ratio_5000'][_i] = np.median(sky_data['sky_ratio_5000'][_is_exp])\n",
    "\n",
    "        print('%i \\t %i \\t %i \\t %.f \\t %.2f \\t\\t %.2f \\t\\t %.1f \\t\\t %f \\t\\t %f' % \n",
    "              (sky_data['date'][_i_uniq], sky_data['tileid'][_i_uniq], sky_data['expid'][_i_uniq], \n",
    "               sky_uniq_exps['exptime'][_i], \n",
    "               sky_uniq_exps['airmass'][_i], sky_uniq_exps['moon_ill'][_i], \n",
    "               sky_uniq_exps['moon_alt'][_i], sky_uniq_exps['moon_sep'][_i], sky_uniq_exps['sky_ratio_5000'][_i]))\n",
    "\n",
    "    return sky_uniq_exps"
   ]
  },
  {
   "cell_type": "code",
   "execution_count": 14,
   "metadata": {},
   "outputs": [
    {
     "name": "stdout",
     "output_type": "stream",
     "text": [
      "date \t\t tile \t exp \t texp \t airmass \t moon_ill \t moon_alt \t moon_sep\n",
      "20200303 \t 70500 \t 52932 \t 500 \t 1.15 \t\t 0.65 \t\t 35.8 \t\t 34.692321 \t\t 3.488880\n",
      "20200303 \t 70500 \t 52934 \t 500 \t 1.19 \t\t 0.65 \t\t 31.0 \t\t 34.557860 \t\t 3.541012\n",
      "20200303 \t 70500 \t 52936 \t 500 \t 1.25 \t\t 0.65 \t\t 26.2 \t\t 34.423687 \t\t 3.612682\n",
      "20200303 \t 70500 \t 52938 \t 500 \t 1.31 \t\t 0.65 \t\t 21.6 \t\t 34.292890 \t\t 3.679804\n",
      "20200303 \t 70500 \t 52940 \t 500 \t 1.39 \t\t 0.65 \t\t 17.0 \t\t 34.162246 \t\t 3.741839\n",
      "20200303 \t 70500 \t 52942 \t 500 \t 1.49 \t\t 0.66 \t\t 12.2 \t\t 34.026271 \t\t 3.670622\n",
      "20200304 \t 70510 \t 53078 \t 500 \t 1.43 \t\t 0.74 \t\t 55.8 \t\t 79.209427 \t\t 3.288664\n",
      "20200304 \t 70510 \t 53080 \t 500 \t 1.34 \t\t 0.75 \t\t 52.1 \t\t 79.061903 \t\t 3.014404\n",
      "20200304 \t 70510 \t 53081 \t 500 \t 1.29 \t\t 0.75 \t\t 49.2 \t\t 78.944160 \t\t 2.865382\n",
      "20200304 \t 70510 \t 53082 \t 500 \t 1.24 \t\t 0.75 \t\t 46.4 \t\t 78.827312 \t\t 2.743923\n",
      "20200304 \t 70510 \t 53083 \t 500 \t 1.19 \t\t 0.75 \t\t 43.5 \t\t 78.710167 \t\t 2.639909\n",
      "20200304 \t 70510 \t 53084 \t 500 \t 1.16 \t\t 0.75 \t\t 40.7 \t\t 78.593746 \t\t 2.540467\n",
      "20200304 \t 70510 \t 53085 \t 500 \t 1.13 \t\t 0.75 \t\t 37.8 \t\t 78.477009 \t\t 2.468474\n",
      "20200304 \t 70510 \t 53086 \t 500 \t 1.10 \t\t 0.75 \t\t 34.9 \t\t 78.352014 \t\t 2.380454\n",
      "20200304 \t 70510 \t 53087 \t 500 \t 1.07 \t\t 0.75 \t\t 32.0 \t\t 78.234978 \t\t 2.302360\n",
      "20200304 \t 70510 \t 53088 \t 500 \t 1.05 \t\t 0.75 \t\t 29.3 \t\t 78.122516 \t\t 2.234176\n",
      "20200304 \t 70510 \t 53089 \t 500 \t 1.04 \t\t 0.75 \t\t 26.5 \t\t 78.006523 \t\t 2.186461\n",
      "20200304 \t 70510 \t 53090 \t 500 \t 1.02 \t\t 0.75 \t\t 23.7 \t\t 77.890318 \t\t 2.112035\n",
      "20200315 \t 66003 \t 55654 \t 450 \t 1.27 \t\t 0.50 \t\t 18.5 \t\t 107.622483 \t\t 0.944198\n",
      "20200315 \t 66003 \t 55655 \t 450 \t 1.30 \t\t 0.50 \t\t 20.5 \t\t 107.703548 \t\t 0.982764\n",
      "20200315 \t 66003 \t 55656 \t 450 \t 1.33 \t\t 0.50 \t\t 22.5 \t\t 107.787263 \t\t 1.025292\n"
     ]
    }
   ],
   "source": [
    "cmx_skies = read_cmx_skies()"
   ]
  },
  {
   "cell_type": "markdown",
   "metadata": {},
   "source": [
    "Seems like we should run VI on **tile 70500**"
   ]
  },
  {
   "cell_type": "code",
   "execution_count": null,
   "metadata": {},
   "outputs": [],
   "source": []
  }
 ],
 "metadata": {
  "kernelspec": {
   "display_name": "DESI master",
   "language": "python",
   "name": "desi-master"
  },
  "language_info": {
   "codemirror_mode": {
    "name": "ipython",
    "version": 3
   },
   "file_extension": ".py",
   "mimetype": "text/x-python",
   "name": "python",
   "nbconvert_exporter": "python",
   "pygments_lexer": "ipython3",
   "version": "3.6.6"
  }
 },
 "nbformat": 4,
 "nbformat_minor": 4
}
