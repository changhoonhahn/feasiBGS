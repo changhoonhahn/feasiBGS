{
 "cells": [
  {
   "cell_type": "code",
   "execution_count": 1,
   "metadata": {},
   "outputs": [],
   "source": [
    "import h5py \n",
    "import numpy as np \n",
    "# -- astropy--\n",
    "from astropy.io import fits\n",
    "from astropy.table import Table as aTable\n",
    "# -- feasibgs -- \n",
    "from feasibgs import util as UT"
   ]
  },
  {
   "cell_type": "code",
   "execution_count": 2,
   "metadata": {},
   "outputs": [],
   "source": [
    "import matplotlib as mpl \n",
    "import matplotlib.pyplot as plt\n",
    "mpl.rcParams['text.usetex'] = True\n",
    "mpl.rcParams['font.family'] = 'serif'\n",
    "mpl.rcParams['axes.linewidth'] = 1.5\n",
    "mpl.rcParams['axes.xmargin'] = 1\n",
    "mpl.rcParams['xtick.labelsize'] = 'x-large'\n",
    "mpl.rcParams['xtick.major.size'] = 5\n",
    "mpl.rcParams['xtick.major.width'] = 1.5\n",
    "mpl.rcParams['ytick.labelsize'] = 'x-large'\n",
    "mpl.rcParams['ytick.major.size'] = 5\n",
    "mpl.rcParams['ytick.major.width'] = 1.5\n",
    "mpl.rcParams['legend.frameon'] = False\n",
    "%matplotlib inline"
   ]
  },
  {
   "cell_type": "code",
   "execution_count": 3,
   "metadata": {},
   "outputs": [],
   "source": [
    "# read in the block catalog\n",
    "dir_spec = ''.join([UT.dat_dir(), 'spectra/gamadr3_legacydr7/'])\n",
    "fblock = h5py.File(''.join([dir_spec, 'g15.mockexp_block.hdf5']), 'r') \n",
    "block = {}\n",
    "for g in fblock.keys():\n",
    "    block[g] = {} \n",
    "    for k in fblock[g].keys(): \n",
    "        block[g][k] = fblock[g][k].value\n",
    "fblock.close()\n",
    "magnorm_flag = block['forwardmodel']['magnorm_flag']"
   ]
  },
  {
   "cell_type": "code",
   "execution_count": 4,
   "metadata": {},
   "outputs": [],
   "source": [
    "r_mag_legacy = UT.flux2mag(block['legacy-photo']['flux_r'])#, method='log')\n",
    "ztrue = block['gama-spec']['z']"
   ]
  },
  {
   "cell_type": "code",
   "execution_count": 5,
   "metadata": {},
   "outputs": [],
   "source": [
    "iexp = 0 \n",
    "exps = aTable.read(''.join([UT.dat_dir(), 'survey_exposures.fits']))\n",
    "\n",
    "exp_i = exps[iexp]"
   ]
  },
  {
   "cell_type": "code",
   "execution_count": 6,
   "metadata": {},
   "outputs": [],
   "source": [
    "zblock_ks = fits.open(''.join([dir_spec, 'g15.sim_spectra.mockexp_block.480.iexp', str(iexp), '.KSsky.rr.fits']))[1].data\n",
    "zblock_newks = fits.open(''.join([dir_spec, 'g15.sim_spectra.mockexp_block.480.iexp', str(iexp), '.newKSsky.rr.fits']))[1].data"
   ]
  },
  {
   "cell_type": "code",
   "execution_count": 7,
   "metadata": {},
   "outputs": [],
   "source": [
    "def zsuccess(zrr, ztrue, zwarn): \n",
    "    dz_1pz = np.abs(ztrue - zrr)/(1.+ztrue)\n",
    "    return (dz_1pz < 0.003) & (zwarn == 0)# & magnorm_flag"
   ]
  },
  {
   "cell_type": "code",
   "execution_count": 8,
   "metadata": {},
   "outputs": [],
   "source": [
    "ks_zsuccess = zsuccess(zblock_ks['Z'], ztrue, zblock_ks['ZWARN'])\n",
    "newks_zsuccess = zsuccess(zblock_newks['Z'], ztrue, zblock_newks['ZWARN'])"
   ]
  },
  {
   "cell_type": "code",
   "execution_count": 9,
   "metadata": {},
   "outputs": [],
   "source": [
    "def zsuccess_rate_magnorm(prop, zsuccess_cond, magnorm_flag, range=None, nbins=20, bin_min=2):\n",
    "    \"\"\" \n",
    "    \"\"\"\n",
    "    h0, bins = np.histogram(prop[magnorm_flag], bins=nbins, range=range)\n",
    "    hv, _ = np.histogram(prop[magnorm_flag], bins=bins, weights=prop[magnorm_flag])\n",
    "    h1, _ = np.histogram(prop[zsuccess_cond & magnorm_flag], bins=bins)\n",
    "    \n",
    "    good = h0 > bin_min\n",
    "    hv = hv[good]\n",
    "    h0 = h0[good]\n",
    "    h1 = h1[good]\n",
    "\n",
    "    vv = hv / h0 # weighted mean of var\n",
    "    \n",
    "    def _eff(k, n):\n",
    "        eff = k.astype(\"float\") / (n.astype('float') + (n==0))\n",
    "        efferr = np.sqrt(eff * (1 - eff)) / np.sqrt(n.astype('float') + (n == 0))\n",
    "        return eff, efferr\n",
    "    \n",
    "    e1, ee1 = _eff(h1, h0)\n",
    "    return vv, e1, ee1"
   ]
  },
  {
   "cell_type": "code",
   "execution_count": 10,
   "metadata": {},
   "outputs": [
    {
     "data": {
      "text/plain": [
       "0.8027018323202668"
      ]
     },
     "execution_count": 10,
     "metadata": {},
     "output_type": "execute_result"
    }
   ],
   "source": [
    "exp_i['MOONFRAC'][0]"
   ]
  },
  {
   "cell_type": "code",
   "execution_count": 11,
   "metadata": {},
   "outputs": [
    {
     "data": {
      "text/plain": [
       "Text(0.5,1,'Moon Ill. = 0.802702, Alt. = 31.072670, Sep. = 54.793890')"
      ]
     },
     "execution_count": 11,
     "metadata": {},
     "output_type": "execute_result"
    },
    {
     "data": {
      "image/png": "[encoded data removed]",
      "text/plain": [
       "<Figure size 432x288 with 1 Axes>"
      ]
     },
     "metadata": {
      "needs_background": "light"
     },
     "output_type": "display_data"
    }
   ],
   "source": [
    "fig = plt.figure()\n",
    "sub = fig.add_subplot(111)\n",
    "sub.plot([15., 22.], [1., 1.], c='k', ls='--', lw=2)\n",
    "mm, e1, ee1 = zsuccess_rate_magnorm(r_mag_legacy, ks_zsuccess, magnorm_flag, nbins=10, range=[15., 22.])\n",
    "sub.errorbar(mm, e1, ee1, color='k', fmt='o', label='original KS')\n",
    "\n",
    "mm, e1, ee1 = zsuccess_rate_magnorm(r_mag_legacy, newks_zsuccess, magnorm_flag, nbins=10, range=[15., 22.])\n",
    "sub.errorbar(mm, e1, ee1, fmt='.C1', label='new KS')\n",
    "\n",
    "sub.set_xlabel(r'$r$ magnitude Legacy DR7', fontsize=20)\n",
    "sub.set_xlim([15., 22.]) \n",
    "sub.set_ylabel(r'redrock redshift success', fontsize=20)\n",
    "sub.set_ylim([0., 1.2])\n",
    "sub.legend(loc='lower left', handletextpad=0., prop={'size': 20})\n",
    "sub.set_title((\"Moon Ill. = %f, Alt. = %f, Sep. = %f\" % (exp_i['MOONFRAC'][0], exp_i['MOONALT'][0], exp_i['MOONSEP'][0])), fontsize=20)"
   ]
  },
  {
   "cell_type": "code",
   "execution_count": null,
   "metadata": {},
   "outputs": [],
   "source": []
  }
 ],
 "metadata": {
  "kernelspec": {
   "display_name": "Python 2",
   "language": "python",
   "name": "python2"
  },
  "language_info": {
   "codemirror_mode": {
    "name": "ipython",
    "version": 2
   },
   "file_extension": ".py",
   "mimetype": "text/x-python",
   "name": "python",
   "nbconvert_exporter": "python",
   "pygments_lexer": "ipython2",
   "version": "2.7.15"
  }
 },
 "nbformat": 4,
 "nbformat_minor": 2
}
