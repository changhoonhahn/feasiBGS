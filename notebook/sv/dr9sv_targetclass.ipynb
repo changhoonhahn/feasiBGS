{
 "cells": [
  {
   "cell_type": "markdown",
   "metadata": {},
   "source": [
    "lets check the target class densities for the DR9SV imaging"
   ]
  },
  {
   "cell_type": "code",
   "execution_count": 1,
   "metadata": {},
   "outputs": [],
   "source": [
    "import os \n",
    "import fitsio\n",
    "import numpy as np \n",
    "# -- desitarget --\n",
    "from desitarget.sv1.sv1_targetmask import bgs_mask\n",
    "# -- plotting -- \n",
    "import matplotlib as mpl\n",
    "import matplotlib.pyplot as plt\n",
    "mpl.rcParams['text.usetex'] = True\n",
    "mpl.rcParams['font.family'] = 'serif'\n",
    "mpl.rcParams['axes.linewidth'] = 1.5\n",
    "mpl.rcParams['axes.xmargin'] = 1\n",
    "mpl.rcParams['xtick.labelsize'] = 'x-large'\n",
    "mpl.rcParams['xtick.major.size'] = 5\n",
    "mpl.rcParams['xtick.major.width'] = 1.5\n",
    "mpl.rcParams['ytick.labelsize'] = 'x-large'\n",
    "mpl.rcParams['ytick.major.size'] = 5\n",
    "mpl.rcParams['ytick.major.width'] = 1.5\n",
    "mpl.rcParams['legend.frameon'] = False"
   ]
  },
  {
   "cell_type": "markdown",
   "metadata": {},
   "source": [
    "Read in DR9SV imaging"
   ]
  },
  {
   "cell_type": "code",
   "execution_count": 2,
   "metadata": {},
   "outputs": [],
   "source": [
    "# local directory with data\n",
    "dat_dir = '/Users/ChangHoon/data/feasiBGS/survey_validation/'"
   ]
  },
  {
   "cell_type": "code",
   "execution_count": 3,
   "metadata": {},
   "outputs": [],
   "source": [
    "dr9sv = fitsio.read(os.path.join(dat_dir, 'sv1-targets-dr9-hp-X.fits'))"
   ]
  },
  {
   "cell_type": "code",
   "execution_count": 5,
   "metadata": {},
   "outputs": [],
   "source": [
    "def bgs_targetclass(bitmask_bgs): \n",
    "    n_bgs = np.float(np.sum(bitmask_bgs.astype(bool))) \n",
    "    n_bgs_bright    = np.sum((bitmask_bgs & bgs_mask.mask('BGS_BRIGHT')).astype(bool))\n",
    "    n_bgs_faint     = np.sum((bitmask_bgs & bgs_mask.mask('BGS_FAINT')).astype(bool))\n",
    "    n_bgs_extfaint  = np.sum((bitmask_bgs & bgs_mask.mask('BGS_FAINT_EXT')).astype(bool)) # extended faint\n",
    "    n_bgs_fibmag    = np.sum((bitmask_bgs & bgs_mask.mask('BGS_FIBMAG')).astype(bool)) # fiber magnitude limited\n",
    "    n_bgs_lowq      = np.sum((bitmask_bgs & bgs_mask.mask('BGS_LOWQ')).astype(bool)) # low quality\n",
    "    return n_bgs, n_bgs_bright, n_bgs_faint, n_bgs_extfaint, n_bgs_fibmag, n_bgs_lowq"
   ]
  },
  {
   "cell_type": "code",
   "execution_count": 6,
   "metadata": {},
   "outputs": [
    {
     "name": "stdout",
     "output_type": "stream",
     "text": [
      "BGS: 1988866\n",
      "MAIN BRIGHT: 617120\n",
      "MAIN FAINT: 553480\n",
      "EXT FAINT: 471037\n",
      "FIBER MAG: 149743\n",
      "LOW Q: 197486\n"
     ]
    }
   ],
   "source": [
    "n_bgs, n_bgs_bright, n_bgs_faint, n_bgs_extfaint, n_bgs_fibmag, n_bgs_lowq = bgs_targetclass(dr9sv['SV1_BGS_TARGET'])\n",
    "\n",
    "print('BGS: %i' % n_bgs)\n",
    "print('MAIN BRIGHT: %i' % n_bgs_bright)\n",
    "print('MAIN FAINT: %i' % n_bgs_faint)\n",
    "print('EXT FAINT: %i' % n_bgs_extfaint)\n",
    "print('FIBER MAG: %i' % n_bgs_fibmag)\n",
    "print('LOW Q: %i' % n_bgs_lowq)"
   ]
  },
  {
   "cell_type": "markdown",
   "metadata": {},
   "source": [
    "calculate the area of DR9SV footprint"
   ]
  },
  {
   "cell_type": "code",
   "execution_count": 7,
   "metadata": {},
   "outputs": [],
   "source": [
    "sv_regions = {}\n",
    "sv_regions['01_s82']            = '30,40,-7,2'\n",
    "sv_regions['02_egs']            = '210,220,50,55'\n",
    "sv_regions['03_gama09']         = '129,141,-2,3'\n",
    "sv_regions['04_gama12']         = '175,185,-3,2'\n",
    "sv_regions['05_gama15']         = '212,222,-2,3'\n",
    "sv_regions['06_overlap']        = '135,160,30,35'\n",
    "sv_regions['07_refnorth']       = '215,230,41,46'\n",
    "sv_regions['08_ages']           = '215,220,30,40'\n",
    "sv_regions['09_sagittarius']    = '200,210,5,10'\n",
    "sv_regions['10_highebv_n']      = '140,150,65,70'\n",
    "sv_regions['11_highebv_s']      = '240,245,20,25'\n",
    "sv_regions['12_highstardens_n'] = '273,283,40,45'\n",
    "sv_regions['13_highstardens_s'] = '260,270,15,20'"
   ]
  },
  {
   "cell_type": "code",
   "execution_count": 9,
   "metadata": {},
   "outputs": [
    {
     "name": "stdout",
     "output_type": "stream",
     "text": [
      "01_s82: 90.000000 sq.deg\n",
      "02_egs: 50.000000 sq.deg\n",
      "03_gama09: 60.000000 sq.deg\n",
      "04_gama12: 50.000000 sq.deg\n",
      "05_gama15: 50.000000 sq.deg\n",
      "06_overlap: 125.000000 sq.deg\n",
      "07_refnorth: 75.000000 sq.deg\n",
      "08_ages: 50.000000 sq.deg\n",
      "09_sagittarius: 50.000000 sq.deg\n",
      "10_highebv_n: 50.000000 sq.deg\n",
      "11_highebv_s: 25.000000 sq.deg\n",
      "12_highstardens_n: 50.000000 sq.deg\n",
      "13_highstardens_s: 50.000000 sq.deg\n",
      "total DR9SV: 775.000000 sq.deg\n"
     ]
    }
   ],
   "source": [
    "area = 0.\n",
    "for k in sv_regions.keys(): \n",
    "    ra_min, ra_max = float(sv_regions[k].split(',')[0]), float(sv_regions[k].split(',')[1])\n",
    "    dec_min, dec_max = float(sv_regions[k].split(',')[2]), float(sv_regions[k].split(',')[3])\n",
    "    _area = (ra_max - ra_min) * (dec_max - dec_min)\n",
    "    print('%s: %f sq.deg' % (k, _area))\n",
    "    area += _area\n",
    "print('total DR9SV: %f sq.deg' % area)"
   ]
  },
  {
   "cell_type": "markdown",
   "metadata": {},
   "source": [
    "Then target densities for DR9SV are: "
   ]
  },
  {
   "cell_type": "code",
   "execution_count": 14,
   "metadata": {},
   "outputs": [
    {
     "name": "stdout",
     "output_type": "stream",
     "text": [
      "BGS: 2566.278710\n",
      "MAIN BRIGHT: 796.283871\n",
      "MAIN FAINT: 714.167742\n",
      "EXT FAINT: 607.789677\n",
      "FIBER MAG: 193.216774\n",
      "LOW Q: 254.820645\n"
     ]
    }
   ],
   "source": [
    "print('BGS: %f' % (float(n_bgs)/area))\n",
    "print('MAIN BRIGHT: %f' % (float(n_bgs_bright)/area))\n",
    "print('MAIN FAINT: %f' % (float(n_bgs_faint)/area))\n",
    "print('EXT FAINT: %f' % (float(n_bgs_extfaint)/area))\n",
    "print('FIBER MAG: %f' % (float(n_bgs_fibmag)/area))\n",
    "print('LOW Q: %f' % (float(n_bgs_lowq)/area))"
   ]
  },
  {
   "cell_type": "markdown",
   "metadata": {},
   "source": [
    "In comparison, we want:\n",
    "- BRIGHT:   540\n",
    "- FAINT:    300\n",
    "- EXTFAINT: 150\n",
    "- FIBERMAG: 150\n",
    "- LOW Q:    60"
   ]
  },
  {
   "cell_type": "code",
   "execution_count": null,
   "metadata": {},
   "outputs": [],
   "source": []
  }
 ],
 "metadata": {
  "kernelspec": {
   "display_name": "Python 3",
   "language": "python",
   "name": "python3"
  },
  "language_info": {
   "codemirror_mode": {
    "name": "ipython",
    "version": 3
   },
   "file_extension": ".py",
   "mimetype": "text/x-python",
   "name": "python",
   "nbconvert_exporter": "python",
   "pygments_lexer": "ipython3",
   "version": "3.7.3"
  }
 },
 "nbformat": 4,
 "nbformat_minor": 4
}
